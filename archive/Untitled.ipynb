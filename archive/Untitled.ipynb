{
 "cells": [
  {
   "cell_type": "code",
   "execution_count": 3,
   "metadata": {},
   "outputs": [],
   "source": [
    "from nptdms import TdmsFile\n",
    "import numpy as np\n",
    "import pandas as pd\n",
    "from matplotlib import pyplot as plt\n"
   ]
  },
  {
   "cell_type": "code",
   "execution_count": 12,
   "metadata": {},
   "outputs": [
    {
     "ename": "FileNotFoundError",
     "evalue": "[Errno 2] No such file or directory: 'C:/swc/branco/007Max/Data/def_behav_probe/29.10.19_sp1/29.10.19_sp1_LDR.tdms'",
     "output_type": "error",
     "traceback": [
      "\u001b[1;31m---------------------------------------------------------------------------\u001b[0m",
      "\u001b[1;31mFileNotFoundError\u001b[0m                         Traceback (most recent call last)",
      "\u001b[1;32m<ipython-input-12-949f69c24bc6>\u001b[0m in \u001b[0;36m<module>\u001b[1;34m\u001b[0m\n\u001b[0;32m      1\u001b[0m \u001b[0mtdms_path\u001b[0m \u001b[1;33m=\u001b[0m \u001b[1;34m\"C:/swc/branco/007Max/Data/def_behav_probe/29.10.19_sp1/29.10.19_sp1_LDR.tdms\"\u001b[0m\u001b[1;33m\u001b[0m\u001b[1;33m\u001b[0m\u001b[0m\n\u001b[0;32m      2\u001b[0m \u001b[1;33m\u001b[0m\u001b[0m\n\u001b[1;32m----> 3\u001b[1;33m \u001b[0mtdms_file\u001b[0m \u001b[1;33m=\u001b[0m \u001b[0mTdmsFile\u001b[0m\u001b[1;33m(\u001b[0m\u001b[0mtdms_path\u001b[0m\u001b[1;33m)\u001b[0m\u001b[1;33m\u001b[0m\u001b[1;33m\u001b[0m\u001b[0m\n\u001b[0m",
      "\u001b[1;32mC:\\ProgramData\\Miniconda3\\lib\\site-packages\\nptdms\\tdms.py\u001b[0m in \u001b[0;36m__init__\u001b[1;34m(self, file, memmap_dir, read_metadata_only)\u001b[0m\n\u001b[0;32m     42\u001b[0m         \u001b[1;32melse\u001b[0m\u001b[1;33m:\u001b[0m\u001b[1;33m\u001b[0m\u001b[1;33m\u001b[0m\u001b[0m\n\u001b[0;32m     43\u001b[0m             \u001b[1;31m# Is path to a file\u001b[0m\u001b[1;33m\u001b[0m\u001b[1;33m\u001b[0m\u001b[1;33m\u001b[0m\u001b[0m\n\u001b[1;32m---> 44\u001b[1;33m             \u001b[1;32mwith\u001b[0m \u001b[0mopen\u001b[0m\u001b[1;33m(\u001b[0m\u001b[0mfile\u001b[0m\u001b[1;33m,\u001b[0m \u001b[1;34m'rb'\u001b[0m\u001b[1;33m)\u001b[0m \u001b[1;32mas\u001b[0m \u001b[0mopen_file\u001b[0m\u001b[1;33m:\u001b[0m\u001b[1;33m\u001b[0m\u001b[1;33m\u001b[0m\u001b[0m\n\u001b[0m\u001b[0;32m     45\u001b[0m                 \u001b[0mself\u001b[0m\u001b[1;33m.\u001b[0m\u001b[0m_read_segments\u001b[0m\u001b[1;33m(\u001b[0m\u001b[0mopen_file\u001b[0m\u001b[1;33m)\u001b[0m\u001b[1;33m\u001b[0m\u001b[1;33m\u001b[0m\u001b[0m\n\u001b[0;32m     46\u001b[0m \u001b[1;33m\u001b[0m\u001b[0m\n",
      "\u001b[1;31mFileNotFoundError\u001b[0m: [Errno 2] No such file or directory: 'C:/swc/branco/007Max/Data/def_behav_probe/29.10.19_sp1/29.10.19_sp1_LDR.tdms'"
     ]
    }
   ],
   "source": [
    "tdms_path = \"C:/swc/branco/007Max/Data/def_behav_probe/29.10.19_sp1/29.10.19_sp1_LDR.tdms\" \n",
    "\n",
    "tdms_file = TdmsFile(tdms_path)"
   ]
  },
  {
   "cell_type": "code",
   "execution_count": 13,
   "metadata": {},
   "outputs": [],
   "source": [
    "tdms_path = r\"C://swc//branco//007Max//Data//def_behav_probe//29.10.19_sp1//29.10.19_sp1_LDR.tdms\" "
   ]
  },
  {
   "cell_type": "code",
   "execution_count": 22,
   "metadata": {},
   "outputs": [],
   "source": [
    "tdms_path = r'C:\\Users\\maksymilianm\\Dropbox (UCL - SWC)\\Project_spiders\\Raw_data\\def_behav_probe\\29.10.19_sp1_LDR.tdms' \n",
    "tdms_file = TdmsFile(tdms_path)"
   ]
  },
  {
   "cell_type": "code",
   "execution_count": 23,
   "metadata": {},
   "outputs": [],
   "source": [
    "fps=40"
   ]
  },
  {
   "cell_type": "code",
   "execution_count": 24,
   "metadata": {},
   "outputs": [
    {
     "data": {
      "image/png": "[encoded data removed]",
      "text/plain": [
       "<Figure size 432x288 with 1 Axes>"
      ]
     },
     "metadata": {
      "needs_background": "light"
     },
     "output_type": "display_data"
    }
   ],
   "source": [
    "photodiode_raw = tdms_file.group_channels('Photodiode')[0].data\n",
    "plt.plot(photodiode_raw)\n",
    "plt.show()\n"
   ]
  },
  {
   "cell_type": "code",
   "execution_count": 26,
   "metadata": {},
   "outputs": [
    {
     "data": {
      "text/plain": [
       "[<matplotlib.lines.Line2D at 0x54ce12b0>]"
      ]
     },
     "execution_count": 26,
     "metadata": {},
     "output_type": "execute_result"
    },
    {
     "data": {
      "image/png": "[encoded data removed]",
      "text/plain": [
       "<Figure size 432x288 with 1 Axes>"
      ]
     },
     "metadata": {
      "needs_background": "light"
     },
     "output_type": "display_data"
    }
   ],
   "source": [
    "photodiode_thresholded = np.diff(photodiode_raw)\n",
    "\n",
    "                                \n",
    "plt.plot(photodiode_thresholded)\n",
    "\n"
   ]
  },
  {
   "cell_type": "code",
   "execution_count": 27,
   "metadata": {},
   "outputs": [
    {
     "data": {
      "text/plain": [
       "[<matplotlib.lines.Line2D at 0x54d49470>,\n",
       " <matplotlib.lines.Line2D at 0x54d495c0>,\n",
       " <matplotlib.lines.Line2D at 0x54d49710>,\n",
       " <matplotlib.lines.Line2D at 0x54d49860>,\n",
       " <matplotlib.lines.Line2D at 0x54d499b0>,\n",
       " <matplotlib.lines.Line2D at 0x54d49b00>,\n",
       " <matplotlib.lines.Line2D at 0x54d49c50>,\n",
       " <matplotlib.lines.Line2D at 0x54d49da0>,\n",
       " <matplotlib.lines.Line2D at 0x54d49ef0>,\n",
       " <matplotlib.lines.Line2D at 0x54d52080>,\n",
       " <matplotlib.lines.Line2D at 0x54d0a438>,\n",
       " <matplotlib.lines.Line2D at 0x54d522e8>,\n",
       " <matplotlib.lines.Line2D at 0x54d52438>,\n",
       " <matplotlib.lines.Line2D at 0x54d52588>,\n",
       " <matplotlib.lines.Line2D at 0x54d526d8>,\n",
       " <matplotlib.lines.Line2D at 0x54d52828>,\n",
       " <matplotlib.lines.Line2D at 0x54d52978>,\n",
       " <matplotlib.lines.Line2D at 0x54d52ac8>,\n",
       " <matplotlib.lines.Line2D at 0x54d52c18>,\n",
       " <matplotlib.lines.Line2D at 0x54d52d68>,\n",
       " <matplotlib.lines.Line2D at 0x54d52eb8>,\n",
       " <matplotlib.lines.Line2D at 0x54d58048>,\n",
       " <matplotlib.lines.Line2D at 0x54d58198>,\n",
       " <matplotlib.lines.Line2D at 0x54d582e8>,\n",
       " <matplotlib.lines.Line2D at 0x54d58438>,\n",
       " <matplotlib.lines.Line2D at 0x54d58588>,\n",
       " <matplotlib.lines.Line2D at 0x54d586d8>,\n",
       " <matplotlib.lines.Line2D at 0x54d58828>,\n",
       " <matplotlib.lines.Line2D at 0x54d58978>,\n",
       " <matplotlib.lines.Line2D at 0x54d58ac8>,\n",
       " <matplotlib.lines.Line2D at 0x54d58c18>,\n",
       " <matplotlib.lines.Line2D at 0x54d58d68>,\n",
       " <matplotlib.lines.Line2D at 0x54d58eb8>,\n",
       " <matplotlib.lines.Line2D at 0x54d5c048>,\n",
       " <matplotlib.lines.Line2D at 0x54d5c198>,\n",
       " <matplotlib.lines.Line2D at 0x54d5c2e8>,\n",
       " <matplotlib.lines.Line2D at 0x54d5c438>,\n",
       " <matplotlib.lines.Line2D at 0x54d5c588>,\n",
       " <matplotlib.lines.Line2D at 0x54d5c6d8>,\n",
       " <matplotlib.lines.Line2D at 0x54d5c828>,\n",
       " <matplotlib.lines.Line2D at 0x54d5c978>,\n",
       " <matplotlib.lines.Line2D at 0x54d5cac8>,\n",
       " <matplotlib.lines.Line2D at 0x54d5cc18>,\n",
       " <matplotlib.lines.Line2D at 0x54d5cd68>,\n",
       " <matplotlib.lines.Line2D at 0x54d5ceb8>,\n",
       " <matplotlib.lines.Line2D at 0x54d62048>,\n",
       " <matplotlib.lines.Line2D at 0x54d62198>,\n",
       " <matplotlib.lines.Line2D at 0x54d622e8>,\n",
       " <matplotlib.lines.Line2D at 0x54d62438>,\n",
       " <matplotlib.lines.Line2D at 0x54d62588>,\n",
       " <matplotlib.lines.Line2D at 0x54d626d8>,\n",
       " <matplotlib.lines.Line2D at 0x54d62828>,\n",
       " <matplotlib.lines.Line2D at 0x54d62978>,\n",
       " <matplotlib.lines.Line2D at 0x54d62ac8>,\n",
       " <matplotlib.lines.Line2D at 0x54d62c18>,\n",
       " <matplotlib.lines.Line2D at 0x54d62d68>,\n",
       " <matplotlib.lines.Line2D at 0x54d62eb8>,\n",
       " <matplotlib.lines.Line2D at 0x54d65048>,\n",
       " <matplotlib.lines.Line2D at 0x54d65198>,\n",
       " <matplotlib.lines.Line2D at 0x54d652e8>,\n",
       " <matplotlib.lines.Line2D at 0x54d65438>,\n",
       " <matplotlib.lines.Line2D at 0x54d65588>,\n",
       " <matplotlib.lines.Line2D at 0x54d656d8>,\n",
       " <matplotlib.lines.Line2D at 0x54d65828>,\n",
       " <matplotlib.lines.Line2D at 0x54d65978>,\n",
       " <matplotlib.lines.Line2D at 0x54d65ac8>,\n",
       " <matplotlib.lines.Line2D at 0x54d65c18>,\n",
       " <matplotlib.lines.Line2D at 0x54d65d68>,\n",
       " <matplotlib.lines.Line2D at 0x54d65eb8>,\n",
       " <matplotlib.lines.Line2D at 0x54d6c048>,\n",
       " <matplotlib.lines.Line2D at 0x54d6c198>,\n",
       " <matplotlib.lines.Line2D at 0x54d6c2e8>,\n",
       " <matplotlib.lines.Line2D at 0x54d6c438>,\n",
       " <matplotlib.lines.Line2D at 0x54d6c588>,\n",
       " <matplotlib.lines.Line2D at 0x54d6c6d8>,\n",
       " <matplotlib.lines.Line2D at 0x54d6c828>,\n",
       " <matplotlib.lines.Line2D at 0x54d6c978>,\n",
       " <matplotlib.lines.Line2D at 0x54d6cac8>,\n",
       " <matplotlib.lines.Line2D at 0x54d6cc18>,\n",
       " <matplotlib.lines.Line2D at 0x54d6cd68>,\n",
       " <matplotlib.lines.Line2D at 0x54d6ceb8>,\n",
       " <matplotlib.lines.Line2D at 0x54d70048>,\n",
       " <matplotlib.lines.Line2D at 0x54d70198>,\n",
       " <matplotlib.lines.Line2D at 0x54d702e8>,\n",
       " <matplotlib.lines.Line2D at 0x54d70438>,\n",
       " <matplotlib.lines.Line2D at 0x54d70588>,\n",
       " <matplotlib.lines.Line2D at 0x54d706d8>,\n",
       " <matplotlib.lines.Line2D at 0x54d70828>,\n",
       " <matplotlib.lines.Line2D at 0x54d70978>,\n",
       " <matplotlib.lines.Line2D at 0x54d70ac8>,\n",
       " <matplotlib.lines.Line2D at 0x54d70c18>,\n",
       " <matplotlib.lines.Line2D at 0x54d70d68>,\n",
       " <matplotlib.lines.Line2D at 0x54d70eb8>,\n",
       " <matplotlib.lines.Line2D at 0x54d75048>,\n",
       " <matplotlib.lines.Line2D at 0x54d75198>,\n",
       " <matplotlib.lines.Line2D at 0x54d752e8>,\n",
       " <matplotlib.lines.Line2D at 0x54d75438>,\n",
       " <matplotlib.lines.Line2D at 0x54d75588>,\n",
       " <matplotlib.lines.Line2D at 0x54d756d8>,\n",
       " <matplotlib.lines.Line2D at 0x54d75828>,\n",
       " <matplotlib.lines.Line2D at 0x54d75978>,\n",
       " <matplotlib.lines.Line2D at 0x54d75ac8>,\n",
       " <matplotlib.lines.Line2D at 0x54d75c18>,\n",
       " <matplotlib.lines.Line2D at 0x54d75d68>,\n",
       " <matplotlib.lines.Line2D at 0x54d75eb8>,\n",
       " <matplotlib.lines.Line2D at 0x54d7a048>,\n",
       " <matplotlib.lines.Line2D at 0x54d7a198>,\n",
       " <matplotlib.lines.Line2D at 0x54d7a2e8>,\n",
       " <matplotlib.lines.Line2D at 0x54d7a438>,\n",
       " <matplotlib.lines.Line2D at 0x54d7a588>,\n",
       " <matplotlib.lines.Line2D at 0x54d7a6d8>,\n",
       " <matplotlib.lines.Line2D at 0x54d7a828>,\n",
       " <matplotlib.lines.Line2D at 0x54d7a978>,\n",
       " <matplotlib.lines.Line2D at 0x54d7aac8>,\n",
       " <matplotlib.lines.Line2D at 0x54d7ac18>,\n",
       " <matplotlib.lines.Line2D at 0x54d7ad68>,\n",
       " <matplotlib.lines.Line2D at 0x54d7aeb8>,\n",
       " <matplotlib.lines.Line2D at 0x54d80048>,\n",
       " <matplotlib.lines.Line2D at 0x54d80198>,\n",
       " <matplotlib.lines.Line2D at 0x54d802e8>,\n",
       " <matplotlib.lines.Line2D at 0x54d80438>,\n",
       " <matplotlib.lines.Line2D at 0x54d80588>,\n",
       " <matplotlib.lines.Line2D at 0x54d806d8>,\n",
       " <matplotlib.lines.Line2D at 0x54d80828>,\n",
       " <matplotlib.lines.Line2D at 0x54d80978>,\n",
       " <matplotlib.lines.Line2D at 0x54d80ac8>,\n",
       " <matplotlib.lines.Line2D at 0x54d80c18>,\n",
       " <matplotlib.lines.Line2D at 0x54d80d68>,\n",
       " <matplotlib.lines.Line2D at 0x54d80eb8>,\n",
       " <matplotlib.lines.Line2D at 0x54d84048>,\n",
       " <matplotlib.lines.Line2D at 0x54d84198>,\n",
       " <matplotlib.lines.Line2D at 0x54d842e8>,\n",
       " <matplotlib.lines.Line2D at 0x54d84438>,\n",
       " <matplotlib.lines.Line2D at 0x54d84588>,\n",
       " <matplotlib.lines.Line2D at 0x54d846d8>,\n",
       " <matplotlib.lines.Line2D at 0x54d84828>,\n",
       " <matplotlib.lines.Line2D at 0x54d84978>,\n",
       " <matplotlib.lines.Line2D at 0x54d84ac8>,\n",
       " <matplotlib.lines.Line2D at 0x54d84c18>,\n",
       " <matplotlib.lines.Line2D at 0x54d84d68>,\n",
       " <matplotlib.lines.Line2D at 0x54d84eb8>,\n",
       " <matplotlib.lines.Line2D at 0x54d8a048>,\n",
       " <matplotlib.lines.Line2D at 0x54d8a198>,\n",
       " <matplotlib.lines.Line2D at 0x54d8a2e8>,\n",
       " <matplotlib.lines.Line2D at 0x54d8a438>,\n",
       " <matplotlib.lines.Line2D at 0x54d8a588>,\n",
       " <matplotlib.lines.Line2D at 0x54d8a6d8>,\n",
       " <matplotlib.lines.Line2D at 0x54d8a828>,\n",
       " <matplotlib.lines.Line2D at 0x54d8a978>,\n",
       " <matplotlib.lines.Line2D at 0x54d8aac8>,\n",
       " <matplotlib.lines.Line2D at 0x54d8ac18>,\n",
       " <matplotlib.lines.Line2D at 0x54d8ad68>,\n",
       " <matplotlib.lines.Line2D at 0x54d8aeb8>,\n",
       " <matplotlib.lines.Line2D at 0x54d8f048>,\n",
       " <matplotlib.lines.Line2D at 0x54d8f198>,\n",
       " <matplotlib.lines.Line2D at 0x54d8f2e8>,\n",
       " <matplotlib.lines.Line2D at 0x54d8f438>,\n",
       " <matplotlib.lines.Line2D at 0x54d8f588>,\n",
       " <matplotlib.lines.Line2D at 0x54d8f6d8>,\n",
       " <matplotlib.lines.Line2D at 0x54d8f828>,\n",
       " <matplotlib.lines.Line2D at 0x54d8f978>,\n",
       " <matplotlib.lines.Line2D at 0x54d8fac8>,\n",
       " <matplotlib.lines.Line2D at 0x54d8fc18>,\n",
       " <matplotlib.lines.Line2D at 0x54d8fd68>,\n",
       " <matplotlib.lines.Line2D at 0x54d8feb8>,\n",
       " <matplotlib.lines.Line2D at 0x54d94048>,\n",
       " <matplotlib.lines.Line2D at 0x54d94198>,\n",
       " <matplotlib.lines.Line2D at 0x54d942e8>,\n",
       " <matplotlib.lines.Line2D at 0x54d94438>,\n",
       " <matplotlib.lines.Line2D at 0x54d94588>,\n",
       " <matplotlib.lines.Line2D at 0x54d946d8>,\n",
       " <matplotlib.lines.Line2D at 0x54d94828>,\n",
       " <matplotlib.lines.Line2D at 0x54d94978>,\n",
       " <matplotlib.lines.Line2D at 0x54d94ac8>,\n",
       " <matplotlib.lines.Line2D at 0x54d94c18>,\n",
       " <matplotlib.lines.Line2D at 0x54d94d68>,\n",
       " <matplotlib.lines.Line2D at 0x54d94eb8>,\n",
       " <matplotlib.lines.Line2D at 0x54d99048>,\n",
       " <matplotlib.lines.Line2D at 0x54d99198>,\n",
       " <matplotlib.lines.Line2D at 0x54d992e8>,\n",
       " <matplotlib.lines.Line2D at 0x54d99438>,\n",
       " <matplotlib.lines.Line2D at 0x54d99588>,\n",
       " <matplotlib.lines.Line2D at 0x54d996d8>,\n",
       " <matplotlib.lines.Line2D at 0x54d99828>,\n",
       " <matplotlib.lines.Line2D at 0x54d99978>,\n",
       " <matplotlib.lines.Line2D at 0x54d99ac8>,\n",
       " <matplotlib.lines.Line2D at 0x54d99c18>,\n",
       " <matplotlib.lines.Line2D at 0x54d99d68>,\n",
       " <matplotlib.lines.Line2D at 0x54d99eb8>,\n",
       " <matplotlib.lines.Line2D at 0x54d9e048>,\n",
       " <matplotlib.lines.Line2D at 0x54d9e198>,\n",
       " <matplotlib.lines.Line2D at 0x54d9e2e8>,\n",
       " <matplotlib.lines.Line2D at 0x54d9e438>,\n",
       " <matplotlib.lines.Line2D at 0x54d9e588>,\n",
       " <matplotlib.lines.Line2D at 0x54d9e6d8>,\n",
       " <matplotlib.lines.Line2D at 0x54d9e828>,\n",
       " <matplotlib.lines.Line2D at 0x54d9e978>,\n",
       " <matplotlib.lines.Line2D at 0x54d9eac8>,\n",
       " <matplotlib.lines.Line2D at 0x54d9ec18>,\n",
       " <matplotlib.lines.Line2D at 0x54d9ed68>,\n",
       " <matplotlib.lines.Line2D at 0x54d9eeb8>,\n",
       " <matplotlib.lines.Line2D at 0x54da3048>,\n",
       " <matplotlib.lines.Line2D at 0x54da3198>,\n",
       " <matplotlib.lines.Line2D at 0x54da32e8>,\n",
       " <matplotlib.lines.Line2D at 0x54da3438>,\n",
       " <matplotlib.lines.Line2D at 0x54da3588>,\n",
       " <matplotlib.lines.Line2D at 0x54da36d8>,\n",
       " <matplotlib.lines.Line2D at 0x54da3828>,\n",
       " <matplotlib.lines.Line2D at 0x54da3978>,\n",
       " <matplotlib.lines.Line2D at 0x54da3ac8>,\n",
       " <matplotlib.lines.Line2D at 0x54da3c18>,\n",
       " <matplotlib.lines.Line2D at 0x54da3d68>,\n",
       " <matplotlib.lines.Line2D at 0x54da3eb8>,\n",
       " <matplotlib.lines.Line2D at 0x54da8048>,\n",
       " <matplotlib.lines.Line2D at 0x54da8198>,\n",
       " <matplotlib.lines.Line2D at 0x54da82e8>,\n",
       " <matplotlib.lines.Line2D at 0x54da8438>,\n",
       " <matplotlib.lines.Line2D at 0x54da8588>,\n",
       " <matplotlib.lines.Line2D at 0x54da86d8>,\n",
       " <matplotlib.lines.Line2D at 0x54da8828>,\n",
       " <matplotlib.lines.Line2D at 0x54da8978>,\n",
       " <matplotlib.lines.Line2D at 0x54da8ac8>,\n",
       " <matplotlib.lines.Line2D at 0x54da8c18>,\n",
       " <matplotlib.lines.Line2D at 0x54da8d68>,\n",
       " <matplotlib.lines.Line2D at 0x54da8eb8>,\n",
       " <matplotlib.lines.Line2D at 0x54dad048>,\n",
       " <matplotlib.lines.Line2D at 0x54dad198>,\n",
       " <matplotlib.lines.Line2D at 0x54dad2e8>,\n",
       " <matplotlib.lines.Line2D at 0x54dad438>,\n",
       " <matplotlib.lines.Line2D at 0x54dad588>,\n",
       " <matplotlib.lines.Line2D at 0x54dad6d8>,\n",
       " <matplotlib.lines.Line2D at 0x54dad828>,\n",
       " <matplotlib.lines.Line2D at 0x54dad978>,\n",
       " <matplotlib.lines.Line2D at 0x54dadac8>,\n",
       " <matplotlib.lines.Line2D at 0x54dadc18>,\n",
       " <matplotlib.lines.Line2D at 0x54dadd68>,\n",
       " <matplotlib.lines.Line2D at 0x54dadeb8>,\n",
       " <matplotlib.lines.Line2D at 0x54db4048>,\n",
       " <matplotlib.lines.Line2D at 0x54db4198>,\n",
       " <matplotlib.lines.Line2D at 0x54db42e8>,\n",
       " <matplotlib.lines.Line2D at 0x54db4438>,\n",
       " <matplotlib.lines.Line2D at 0x54db4588>,\n",
       " <matplotlib.lines.Line2D at 0x54db46d8>,\n",
       " <matplotlib.lines.Line2D at 0x54db4828>,\n",
       " <matplotlib.lines.Line2D at 0x54db4978>,\n",
       " <matplotlib.lines.Line2D at 0x54db4ac8>,\n",
       " <matplotlib.lines.Line2D at 0x54db4c18>,\n",
       " <matplotlib.lines.Line2D at 0x54db4d68>,\n",
       " <matplotlib.lines.Line2D at 0x54db4eb8>,\n",
       " <matplotlib.lines.Line2D at 0x54db8048>,\n",
       " <matplotlib.lines.Line2D at 0x54db8198>,\n",
       " <matplotlib.lines.Line2D at 0x54db82e8>,\n",
       " <matplotlib.lines.Line2D at 0x54db8438>,\n",
       " <matplotlib.lines.Line2D at 0x54db8588>,\n",
       " <matplotlib.lines.Line2D at 0x54db86d8>,\n",
       " <matplotlib.lines.Line2D at 0x54db8828>,\n",
       " <matplotlib.lines.Line2D at 0x54db8978>,\n",
       " <matplotlib.lines.Line2D at 0x54db8ac8>,\n",
       " <matplotlib.lines.Line2D at 0x54db8c18>,\n",
       " <matplotlib.lines.Line2D at 0x54db8d68>,\n",
       " <matplotlib.lines.Line2D at 0x54db8eb8>,\n",
       " <matplotlib.lines.Line2D at 0x54dbd048>,\n",
       " <matplotlib.lines.Line2D at 0x54dbd198>,\n",
       " <matplotlib.lines.Line2D at 0x54dbd2e8>,\n",
       " <matplotlib.lines.Line2D at 0x54dbd438>,\n",
       " <matplotlib.lines.Line2D at 0x54dbd588>,\n",
       " <matplotlib.lines.Line2D at 0x54dbd6d8>,\n",
       " <matplotlib.lines.Line2D at 0x54dbd828>,\n",
       " <matplotlib.lines.Line2D at 0x54dbd978>,\n",
       " <matplotlib.lines.Line2D at 0x54dbdac8>,\n",
       " <matplotlib.lines.Line2D at 0x54dbdc18>,\n",
       " <matplotlib.lines.Line2D at 0x54dbdd68>,\n",
       " <matplotlib.lines.Line2D at 0x54dbdeb8>,\n",
       " <matplotlib.lines.Line2D at 0x54dc2048>,\n",
       " <matplotlib.lines.Line2D at 0x54dc2198>,\n",
       " <matplotlib.lines.Line2D at 0x54dc22e8>,\n",
       " <matplotlib.lines.Line2D at 0x54dc2438>,\n",
       " <matplotlib.lines.Line2D at 0x54dc2588>,\n",
       " <matplotlib.lines.Line2D at 0x54dc26d8>,\n",
       " <matplotlib.lines.Line2D at 0x54dc2828>,\n",
       " <matplotlib.lines.Line2D at 0x54dc2978>,\n",
       " <matplotlib.lines.Line2D at 0x54dc2ac8>,\n",
       " <matplotlib.lines.Line2D at 0x54dc2c18>,\n",
       " <matplotlib.lines.Line2D at 0x54dc2d68>,\n",
       " <matplotlib.lines.Line2D at 0x54dc2eb8>,\n",
       " <matplotlib.lines.Line2D at 0x54dc8048>,\n",
       " <matplotlib.lines.Line2D at 0x54dc8198>,\n",
       " <matplotlib.lines.Line2D at 0x54dc82e8>,\n",
       " <matplotlib.lines.Line2D at 0x54dc8438>,\n",
       " <matplotlib.lines.Line2D at 0x54dc8588>,\n",
       " <matplotlib.lines.Line2D at 0x54dc86d8>,\n",
       " <matplotlib.lines.Line2D at 0x54dc8828>,\n",
       " <matplotlib.lines.Line2D at 0x54dc8978>,\n",
       " <matplotlib.lines.Line2D at 0x54dc8ac8>,\n",
       " <matplotlib.lines.Line2D at 0x54dc8c18>,\n",
       " <matplotlib.lines.Line2D at 0x54dc8d68>,\n",
       " <matplotlib.lines.Line2D at 0x54dc8eb8>,\n",
       " <matplotlib.lines.Line2D at 0x54dcc048>,\n",
       " <matplotlib.lines.Line2D at 0x54dcc198>,\n",
       " <matplotlib.lines.Line2D at 0x54dcc2e8>,\n",
       " <matplotlib.lines.Line2D at 0x54dcc438>,\n",
       " <matplotlib.lines.Line2D at 0x54dcc588>,\n",
       " <matplotlib.lines.Line2D at 0x54dcc6d8>,\n",
       " <matplotlib.lines.Line2D at 0x54dcc828>,\n",
       " <matplotlib.lines.Line2D at 0x54dcc978>,\n",
       " <matplotlib.lines.Line2D at 0x54dccac8>,\n",
       " <matplotlib.lines.Line2D at 0x54dccc18>,\n",
       " <matplotlib.lines.Line2D at 0x54dccd68>,\n",
       " <matplotlib.lines.Line2D at 0x54dcceb8>,\n",
       " <matplotlib.lines.Line2D at 0x54dd1048>,\n",
       " <matplotlib.lines.Line2D at 0x54dd1198>,\n",
       " <matplotlib.lines.Line2D at 0x54dd12e8>,\n",
       " <matplotlib.lines.Line2D at 0x54dd1438>,\n",
       " <matplotlib.lines.Line2D at 0x54dd1588>,\n",
       " <matplotlib.lines.Line2D at 0x54dd16d8>,\n",
       " <matplotlib.lines.Line2D at 0x54dd1828>,\n",
       " <matplotlib.lines.Line2D at 0x54dd1978>,\n",
       " <matplotlib.lines.Line2D at 0x54dd1ac8>,\n",
       " <matplotlib.lines.Line2D at 0x54dd1c18>,\n",
       " <matplotlib.lines.Line2D at 0x54dd1d68>,\n",
       " <matplotlib.lines.Line2D at 0x54dd1eb8>,\n",
       " <matplotlib.lines.Line2D at 0x54dd7048>,\n",
       " <matplotlib.lines.Line2D at 0x54dd7198>,\n",
       " <matplotlib.lines.Line2D at 0x54dd72e8>,\n",
       " <matplotlib.lines.Line2D at 0x54dd7438>,\n",
       " <matplotlib.lines.Line2D at 0x54dd7588>,\n",
       " <matplotlib.lines.Line2D at 0x54dd76d8>,\n",
       " <matplotlib.lines.Line2D at 0x54dd7828>,\n",
       " <matplotlib.lines.Line2D at 0x54dd7978>,\n",
       " <matplotlib.lines.Line2D at 0x54dd7ac8>,\n",
       " <matplotlib.lines.Line2D at 0x54dd7c18>,\n",
       " <matplotlib.lines.Line2D at 0x54dd7d68>,\n",
       " <matplotlib.lines.Line2D at 0x54dd7eb8>,\n",
       " <matplotlib.lines.Line2D at 0x54ddd048>,\n",
       " <matplotlib.lines.Line2D at 0x54ddd198>,\n",
       " <matplotlib.lines.Line2D at 0x54ddd2e8>,\n",
       " <matplotlib.lines.Line2D at 0x54ddd438>,\n",
       " <matplotlib.lines.Line2D at 0x54ddd588>,\n",
       " <matplotlib.lines.Line2D at 0x54ddd6d8>,\n",
       " <matplotlib.lines.Line2D at 0x54ddd828>,\n",
       " <matplotlib.lines.Line2D at 0x54ddd978>,\n",
       " <matplotlib.lines.Line2D at 0x54dddac8>,\n",
       " <matplotlib.lines.Line2D at 0x54dddc18>,\n",
       " <matplotlib.lines.Line2D at 0x54dddd68>,\n",
       " <matplotlib.lines.Line2D at 0x54dddeb8>,\n",
       " <matplotlib.lines.Line2D at 0x54de1048>,\n",
       " <matplotlib.lines.Line2D at 0x54de1198>,\n",
       " <matplotlib.lines.Line2D at 0x54de12e8>,\n",
       " <matplotlib.lines.Line2D at 0x54de1438>,\n",
       " <matplotlib.lines.Line2D at 0x54de1588>,\n",
       " <matplotlib.lines.Line2D at 0x54de16d8>,\n",
       " <matplotlib.lines.Line2D at 0x54de1828>,\n",
       " <matplotlib.lines.Line2D at 0x54de1978>,\n",
       " <matplotlib.lines.Line2D at 0x54de1ac8>,\n",
       " <matplotlib.lines.Line2D at 0x54de1c18>,\n",
       " <matplotlib.lines.Line2D at 0x54de1d68>,\n",
       " <matplotlib.lines.Line2D at 0x54de1eb8>,\n",
       " <matplotlib.lines.Line2D at 0x54de6048>,\n",
       " <matplotlib.lines.Line2D at 0x54de6198>,\n",
       " <matplotlib.lines.Line2D at 0x54de62e8>,\n",
       " <matplotlib.lines.Line2D at 0x54de6438>,\n",
       " <matplotlib.lines.Line2D at 0x54de6588>,\n",
       " <matplotlib.lines.Line2D at 0x54de66d8>,\n",
       " <matplotlib.lines.Line2D at 0x54de6828>,\n",
       " <matplotlib.lines.Line2D at 0x54de6978>,\n",
       " <matplotlib.lines.Line2D at 0x54de6ac8>,\n",
       " <matplotlib.lines.Line2D at 0x54de6c18>,\n",
       " <matplotlib.lines.Line2D at 0x54de6d68>,\n",
       " <matplotlib.lines.Line2D at 0x54de6eb8>,\n",
       " <matplotlib.lines.Line2D at 0x54dec048>,\n",
       " <matplotlib.lines.Line2D at 0x54dec198>,\n",
       " <matplotlib.lines.Line2D at 0x54dec2e8>,\n",
       " <matplotlib.lines.Line2D at 0x54dec438>,\n",
       " <matplotlib.lines.Line2D at 0x54dec588>,\n",
       " <matplotlib.lines.Line2D at 0x54dec6d8>,\n",
       " <matplotlib.lines.Line2D at 0x54dec828>,\n",
       " <matplotlib.lines.Line2D at 0x54dec978>,\n",
       " <matplotlib.lines.Line2D at 0x54decac8>,\n",
       " <matplotlib.lines.Line2D at 0x54decc18>,\n",
       " <matplotlib.lines.Line2D at 0x54decd68>,\n",
       " <matplotlib.lines.Line2D at 0x54deceb8>,\n",
       " <matplotlib.lines.Line2D at 0x54df1048>,\n",
       " <matplotlib.lines.Line2D at 0x54df1198>,\n",
       " <matplotlib.lines.Line2D at 0x54df12e8>,\n",
       " <matplotlib.lines.Line2D at 0x54df1438>,\n",
       " <matplotlib.lines.Line2D at 0x54df1588>,\n",
       " <matplotlib.lines.Line2D at 0x54df16d8>,\n",
       " <matplotlib.lines.Line2D at 0x54df1828>,\n",
       " <matplotlib.lines.Line2D at 0x54df1978>,\n",
       " <matplotlib.lines.Line2D at 0x54df1ac8>,\n",
       " <matplotlib.lines.Line2D at 0x54df1c18>,\n",
       " <matplotlib.lines.Line2D at 0x54df1d68>,\n",
       " <matplotlib.lines.Line2D at 0x54df1eb8>,\n",
       " <matplotlib.lines.Line2D at 0x54df6048>,\n",
       " <matplotlib.lines.Line2D at 0x54df6198>,\n",
       " <matplotlib.lines.Line2D at 0x54df62e8>,\n",
       " <matplotlib.lines.Line2D at 0x54df6438>,\n",
       " <matplotlib.lines.Line2D at 0x54df6588>,\n",
       " <matplotlib.lines.Line2D at 0x54df66d8>,\n",
       " <matplotlib.lines.Line2D at 0x54df6828>,\n",
       " <matplotlib.lines.Line2D at 0x54df6978>,\n",
       " <matplotlib.lines.Line2D at 0x54df6ac8>,\n",
       " <matplotlib.lines.Line2D at 0x54df6c18>,\n",
       " <matplotlib.lines.Line2D at 0x54df6d68>,\n",
       " <matplotlib.lines.Line2D at 0x54df6eb8>,\n",
       " <matplotlib.lines.Line2D at 0x54dfb048>,\n",
       " <matplotlib.lines.Line2D at 0x54dfb198>,\n",
       " <matplotlib.lines.Line2D at 0x54dfb2e8>,\n",
       " <matplotlib.lines.Line2D at 0x54dfb438>,\n",
       " <matplotlib.lines.Line2D at 0x54dfb588>,\n",
       " <matplotlib.lines.Line2D at 0x54dfb6d8>,\n",
       " <matplotlib.lines.Line2D at 0x54dfb828>,\n",
       " <matplotlib.lines.Line2D at 0x54dfb978>,\n",
       " <matplotlib.lines.Line2D at 0x54dfbac8>,\n",
       " <matplotlib.lines.Line2D at 0x54dfbc18>,\n",
       " <matplotlib.lines.Line2D at 0x54dfbd68>,\n",
       " <matplotlib.lines.Line2D at 0x54dfbeb8>,\n",
       " <matplotlib.lines.Line2D at 0x54e00048>,\n",
       " <matplotlib.lines.Line2D at 0x54e00198>,\n",
       " <matplotlib.lines.Line2D at 0x54e002e8>,\n",
       " <matplotlib.lines.Line2D at 0x54e00438>,\n",
       " <matplotlib.lines.Line2D at 0x54e00588>,\n",
       " <matplotlib.lines.Line2D at 0x54e006d8>,\n",
       " <matplotlib.lines.Line2D at 0x54e00828>,\n",
       " <matplotlib.lines.Line2D at 0x54e00978>,\n",
       " <matplotlib.lines.Line2D at 0x54e00ac8>,\n",
       " <matplotlib.lines.Line2D at 0x54e00c18>,\n",
       " <matplotlib.lines.Line2D at 0x54e00d68>,\n",
       " <matplotlib.lines.Line2D at 0x54e00eb8>,\n",
       " <matplotlib.lines.Line2D at 0x54e05048>,\n",
       " <matplotlib.lines.Line2D at 0x54e05198>,\n",
       " <matplotlib.lines.Line2D at 0x54e052e8>,\n",
       " <matplotlib.lines.Line2D at 0x54e05438>,\n",
       " <matplotlib.lines.Line2D at 0x54e05588>,\n",
       " <matplotlib.lines.Line2D at 0x54e056d8>,\n",
       " <matplotlib.lines.Line2D at 0x54e05828>,\n",
       " <matplotlib.lines.Line2D at 0x54e05978>,\n",
       " <matplotlib.lines.Line2D at 0x54e05ac8>,\n",
       " <matplotlib.lines.Line2D at 0x54e05c18>,\n",
       " <matplotlib.lines.Line2D at 0x54e05d68>,\n",
       " <matplotlib.lines.Line2D at 0x54e05eb8>,\n",
       " <matplotlib.lines.Line2D at 0x54e0b048>,\n",
       " <matplotlib.lines.Line2D at 0x54e0b198>,\n",
       " <matplotlib.lines.Line2D at 0x54e0b2e8>,\n",
       " <matplotlib.lines.Line2D at 0x54e0b438>,\n",
       " <matplotlib.lines.Line2D at 0x54e0b588>,\n",
       " <matplotlib.lines.Line2D at 0x54e0b6d8>,\n",
       " <matplotlib.lines.Line2D at 0x54e0b828>,\n",
       " <matplotlib.lines.Line2D at 0x54e0b978>,\n",
       " <matplotlib.lines.Line2D at 0x54e0bac8>,\n",
       " <matplotlib.lines.Line2D at 0x54e0bc18>,\n",
       " <matplotlib.lines.Line2D at 0x54e0bd68>,\n",
       " <matplotlib.lines.Line2D at 0x54e0beb8>,\n",
       " <matplotlib.lines.Line2D at 0x54e10048>,\n",
       " <matplotlib.lines.Line2D at 0x54e10198>,\n",
       " <matplotlib.lines.Line2D at 0x54e102e8>,\n",
       " <matplotlib.lines.Line2D at 0x54e10438>,\n",
       " <matplotlib.lines.Line2D at 0x54e10588>,\n",
       " <matplotlib.lines.Line2D at 0x54e106d8>,\n",
       " <matplotlib.lines.Line2D at 0x54e10828>,\n",
       " <matplotlib.lines.Line2D at 0x54e10978>,\n",
       " <matplotlib.lines.Line2D at 0x54e10ac8>,\n",
       " <matplotlib.lines.Line2D at 0x54e10c18>,\n",
       " <matplotlib.lines.Line2D at 0x54e10d68>,\n",
       " <matplotlib.lines.Line2D at 0x54e10eb8>,\n",
       " <matplotlib.lines.Line2D at 0x54e14048>,\n",
       " <matplotlib.lines.Line2D at 0x54e14198>,\n",
       " <matplotlib.lines.Line2D at 0x54e142e8>,\n",
       " <matplotlib.lines.Line2D at 0x54e14438>,\n",
       " <matplotlib.lines.Line2D at 0x54e14588>,\n",
       " <matplotlib.lines.Line2D at 0x54e146d8>,\n",
       " <matplotlib.lines.Line2D at 0x54e14828>,\n",
       " <matplotlib.lines.Line2D at 0x54e14978>,\n",
       " <matplotlib.lines.Line2D at 0x54e14ac8>,\n",
       " <matplotlib.lines.Line2D at 0x54e14c18>,\n",
       " <matplotlib.lines.Line2D at 0x54e14d68>,\n",
       " <matplotlib.lines.Line2D at 0x54e14eb8>,\n",
       " <matplotlib.lines.Line2D at 0x54e1a048>,\n",
       " <matplotlib.lines.Line2D at 0x54e1a198>,\n",
       " <matplotlib.lines.Line2D at 0x54e1a2e8>,\n",
       " <matplotlib.lines.Line2D at 0x54e1a438>,\n",
       " <matplotlib.lines.Line2D at 0x54e1a588>,\n",
       " <matplotlib.lines.Line2D at 0x54e1a6d8>,\n",
       " <matplotlib.lines.Line2D at 0x54e1a828>,\n",
       " <matplotlib.lines.Line2D at 0x54e1a978>,\n",
       " <matplotlib.lines.Line2D at 0x54e1aac8>,\n",
       " <matplotlib.lines.Line2D at 0x54e1ac18>,\n",
       " <matplotlib.lines.Line2D at 0x54e1ad68>,\n",
       " <matplotlib.lines.Line2D at 0x54e1aeb8>,\n",
       " <matplotlib.lines.Line2D at 0x54e1f048>,\n",
       " <matplotlib.lines.Line2D at 0x54e1f198>,\n",
       " <matplotlib.lines.Line2D at 0x54e1f2e8>,\n",
       " <matplotlib.lines.Line2D at 0x54e1f438>,\n",
       " <matplotlib.lines.Line2D at 0x54e1f588>,\n",
       " <matplotlib.lines.Line2D at 0x54e1f6d8>,\n",
       " <matplotlib.lines.Line2D at 0x54e1f828>,\n",
       " <matplotlib.lines.Line2D at 0x54e1f978>,\n",
       " <matplotlib.lines.Line2D at 0x54e1fac8>,\n",
       " <matplotlib.lines.Line2D at 0x54e1fc18>,\n",
       " <matplotlib.lines.Line2D at 0x54e1fd68>,\n",
       " <matplotlib.lines.Line2D at 0x54e1feb8>,\n",
       " <matplotlib.lines.Line2D at 0x54e24048>,\n",
       " <matplotlib.lines.Line2D at 0x54e24198>,\n",
       " <matplotlib.lines.Line2D at 0x54e242e8>,\n",
       " <matplotlib.lines.Line2D at 0x54e24438>,\n",
       " <matplotlib.lines.Line2D at 0x54e24588>,\n",
       " <matplotlib.lines.Line2D at 0x54e246d8>,\n",
       " <matplotlib.lines.Line2D at 0x54e24828>,\n",
       " <matplotlib.lines.Line2D at 0x54e24978>,\n",
       " <matplotlib.lines.Line2D at 0x54e24ac8>,\n",
       " <matplotlib.lines.Line2D at 0x54e24c18>,\n",
       " <matplotlib.lines.Line2D at 0x54e24d68>,\n",
       " <matplotlib.lines.Line2D at 0x54e24eb8>,\n",
       " <matplotlib.lines.Line2D at 0x54e28048>,\n",
       " <matplotlib.lines.Line2D at 0x54e28198>,\n",
       " <matplotlib.lines.Line2D at 0x54e282e8>,\n",
       " <matplotlib.lines.Line2D at 0x54e28438>,\n",
       " <matplotlib.lines.Line2D at 0x54e28588>,\n",
       " <matplotlib.lines.Line2D at 0x54e286d8>,\n",
       " <matplotlib.lines.Line2D at 0x54e28828>,\n",
       " <matplotlib.lines.Line2D at 0x54e28978>,\n",
       " <matplotlib.lines.Line2D at 0x54e28ac8>,\n",
       " <matplotlib.lines.Line2D at 0x54e28c18>,\n",
       " <matplotlib.lines.Line2D at 0x54e28d68>,\n",
       " <matplotlib.lines.Line2D at 0x54e28eb8>,\n",
       " <matplotlib.lines.Line2D at 0x54e2e048>,\n",
       " <matplotlib.lines.Line2D at 0x54e2e198>,\n",
       " <matplotlib.lines.Line2D at 0x54e2e2e8>,\n",
       " <matplotlib.lines.Line2D at 0x54e2e438>,\n",
       " <matplotlib.lines.Line2D at 0x54e2e588>,\n",
       " <matplotlib.lines.Line2D at 0x54e2e6d8>,\n",
       " <matplotlib.lines.Line2D at 0x54e2e828>,\n",
       " <matplotlib.lines.Line2D at 0x54e2e978>,\n",
       " <matplotlib.lines.Line2D at 0x54e2eac8>,\n",
       " <matplotlib.lines.Line2D at 0x54e2ec18>,\n",
       " <matplotlib.lines.Line2D at 0x54e2ed68>,\n",
       " <matplotlib.lines.Line2D at 0x54e2eeb8>,\n",
       " <matplotlib.lines.Line2D at 0x54e34048>,\n",
       " <matplotlib.lines.Line2D at 0x54e34198>,\n",
       " <matplotlib.lines.Line2D at 0x54e342e8>,\n",
       " <matplotlib.lines.Line2D at 0x54e34438>,\n",
       " <matplotlib.lines.Line2D at 0x54e34588>,\n",
       " <matplotlib.lines.Line2D at 0x54e346d8>,\n",
       " <matplotlib.lines.Line2D at 0x54e34828>,\n",
       " <matplotlib.lines.Line2D at 0x54e34978>,\n",
       " <matplotlib.lines.Line2D at 0x54e34ac8>,\n",
       " <matplotlib.lines.Line2D at 0x54e34c18>,\n",
       " <matplotlib.lines.Line2D at 0x54e34d68>,\n",
       " <matplotlib.lines.Line2D at 0x54e34eb8>,\n",
       " <matplotlib.lines.Line2D at 0x54e39048>,\n",
       " <matplotlib.lines.Line2D at 0x54e39198>,\n",
       " <matplotlib.lines.Line2D at 0x54e392e8>,\n",
       " <matplotlib.lines.Line2D at 0x54e39438>,\n",
       " <matplotlib.lines.Line2D at 0x54e39588>,\n",
       " <matplotlib.lines.Line2D at 0x54e396d8>,\n",
       " <matplotlib.lines.Line2D at 0x54e39828>,\n",
       " <matplotlib.lines.Line2D at 0x54e39978>,\n",
       " <matplotlib.lines.Line2D at 0x54e39ac8>,\n",
       " <matplotlib.lines.Line2D at 0x54e39c18>,\n",
       " <matplotlib.lines.Line2D at 0x54e39d68>,\n",
       " <matplotlib.lines.Line2D at 0x54e39eb8>,\n",
       " <matplotlib.lines.Line2D at 0x54e3d048>,\n",
       " <matplotlib.lines.Line2D at 0x54e3d198>,\n",
       " <matplotlib.lines.Line2D at 0x54e3d2e8>,\n",
       " <matplotlib.lines.Line2D at 0x54e3d438>,\n",
       " <matplotlib.lines.Line2D at 0x54e3d588>,\n",
       " <matplotlib.lines.Line2D at 0x54e3d6d8>,\n",
       " <matplotlib.lines.Line2D at 0x54e3d828>,\n",
       " <matplotlib.lines.Line2D at 0x54e3d978>,\n",
       " <matplotlib.lines.Line2D at 0x54e3dac8>,\n",
       " <matplotlib.lines.Line2D at 0x54e3dc18>,\n",
       " <matplotlib.lines.Line2D at 0x54e3dd68>,\n",
       " <matplotlib.lines.Line2D at 0x54e3deb8>,\n",
       " <matplotlib.lines.Line2D at 0x54e44048>,\n",
       " <matplotlib.lines.Line2D at 0x54e44198>,\n",
       " <matplotlib.lines.Line2D at 0x54e442e8>,\n",
       " <matplotlib.lines.Line2D at 0x54e44438>,\n",
       " <matplotlib.lines.Line2D at 0x54e44588>,\n",
       " <matplotlib.lines.Line2D at 0x54e446d8>,\n",
       " <matplotlib.lines.Line2D at 0x54e44828>,\n",
       " <matplotlib.lines.Line2D at 0x54e44978>,\n",
       " <matplotlib.lines.Line2D at 0x54e44ac8>,\n",
       " <matplotlib.lines.Line2D at 0x54e44c18>,\n",
       " <matplotlib.lines.Line2D at 0x54e44d68>,\n",
       " <matplotlib.lines.Line2D at 0x54e44eb8>,\n",
       " <matplotlib.lines.Line2D at 0x54e47048>,\n",
       " <matplotlib.lines.Line2D at 0x54e47198>,\n",
       " <matplotlib.lines.Line2D at 0x54e472e8>,\n",
       " <matplotlib.lines.Line2D at 0x54e47438>,\n",
       " <matplotlib.lines.Line2D at 0x54e47588>,\n",
       " <matplotlib.lines.Line2D at 0x54e476d8>,\n",
       " <matplotlib.lines.Line2D at 0x54e47828>,\n",
       " <matplotlib.lines.Line2D at 0x54e47978>,\n",
       " <matplotlib.lines.Line2D at 0x54e47ac8>,\n",
       " <matplotlib.lines.Line2D at 0x54e47c18>,\n",
       " <matplotlib.lines.Line2D at 0x54e47d68>,\n",
       " <matplotlib.lines.Line2D at 0x54e47eb8>,\n",
       " <matplotlib.lines.Line2D at 0x54e4d048>,\n",
       " <matplotlib.lines.Line2D at 0x54e4d198>,\n",
       " <matplotlib.lines.Line2D at 0x54e4d2e8>,\n",
       " <matplotlib.lines.Line2D at 0x54e4d438>,\n",
       " <matplotlib.lines.Line2D at 0x54e4d588>,\n",
       " <matplotlib.lines.Line2D at 0x54e4d6d8>,\n",
       " <matplotlib.lines.Line2D at 0x54e4d828>,\n",
       " <matplotlib.lines.Line2D at 0x54e4d978>,\n",
       " <matplotlib.lines.Line2D at 0x54e4dac8>,\n",
       " <matplotlib.lines.Line2D at 0x54e4dc18>,\n",
       " <matplotlib.lines.Line2D at 0x54e4dd68>,\n",
       " <matplotlib.lines.Line2D at 0x54e4deb8>,\n",
       " <matplotlib.lines.Line2D at 0x54e51048>,\n",
       " <matplotlib.lines.Line2D at 0x54e51198>,\n",
       " <matplotlib.lines.Line2D at 0x54e512e8>,\n",
       " <matplotlib.lines.Line2D at 0x54e51438>,\n",
       " <matplotlib.lines.Line2D at 0x54e51588>,\n",
       " <matplotlib.lines.Line2D at 0x54e516d8>,\n",
       " <matplotlib.lines.Line2D at 0x54e51828>,\n",
       " <matplotlib.lines.Line2D at 0x54e51978>,\n",
       " <matplotlib.lines.Line2D at 0x54e51ac8>,\n",
       " <matplotlib.lines.Line2D at 0x54e51c18>,\n",
       " <matplotlib.lines.Line2D at 0x54e51d68>,\n",
       " <matplotlib.lines.Line2D at 0x54e51eb8>,\n",
       " <matplotlib.lines.Line2D at 0x54e58048>,\n",
       " <matplotlib.lines.Line2D at 0x54e58198>,\n",
       " <matplotlib.lines.Line2D at 0x54e582e8>,\n",
       " <matplotlib.lines.Line2D at 0x54e58438>,\n",
       " <matplotlib.lines.Line2D at 0x54e58588>,\n",
       " <matplotlib.lines.Line2D at 0x54e586d8>,\n",
       " <matplotlib.lines.Line2D at 0x54e58828>,\n",
       " <matplotlib.lines.Line2D at 0x54e58978>,\n",
       " <matplotlib.lines.Line2D at 0x54e58ac8>,\n",
       " <matplotlib.lines.Line2D at 0x54e58c18>,\n",
       " <matplotlib.lines.Line2D at 0x54e58d68>,\n",
       " <matplotlib.lines.Line2D at 0x54e58eb8>,\n",
       " <matplotlib.lines.Line2D at 0x54e5c048>,\n",
       " <matplotlib.lines.Line2D at 0x54e5c198>,\n",
       " <matplotlib.lines.Line2D at 0x54e5c2e8>,\n",
       " <matplotlib.lines.Line2D at 0x54e5c438>,\n",
       " <matplotlib.lines.Line2D at 0x54e5c588>,\n",
       " <matplotlib.lines.Line2D at 0x54e5c6d8>,\n",
       " <matplotlib.lines.Line2D at 0x54e5c828>,\n",
       " <matplotlib.lines.Line2D at 0x54e5c978>,\n",
       " <matplotlib.lines.Line2D at 0x54e5cac8>,\n",
       " <matplotlib.lines.Line2D at 0x54e5cc18>,\n",
       " <matplotlib.lines.Line2D at 0x54e5cd68>,\n",
       " <matplotlib.lines.Line2D at 0x54e5ceb8>,\n",
       " <matplotlib.lines.Line2D at 0x54e63048>,\n",
       " <matplotlib.lines.Line2D at 0x54e63198>,\n",
       " <matplotlib.lines.Line2D at 0x54e632e8>,\n",
       " <matplotlib.lines.Line2D at 0x54e63438>,\n",
       " <matplotlib.lines.Line2D at 0x54e63588>,\n",
       " <matplotlib.lines.Line2D at 0x54e636d8>,\n",
       " <matplotlib.lines.Line2D at 0x54e63828>,\n",
       " <matplotlib.lines.Line2D at 0x54e63978>,\n",
       " <matplotlib.lines.Line2D at 0x54e63ac8>,\n",
       " <matplotlib.lines.Line2D at 0x54e63c18>,\n",
       " <matplotlib.lines.Line2D at 0x54e63d68>,\n",
       " <matplotlib.lines.Line2D at 0x54e63eb8>,\n",
       " <matplotlib.lines.Line2D at 0x54e67048>,\n",
       " <matplotlib.lines.Line2D at 0x54e67198>,\n",
       " <matplotlib.lines.Line2D at 0x54e672e8>,\n",
       " <matplotlib.lines.Line2D at 0x54e67438>,\n",
       " <matplotlib.lines.Line2D at 0x54e67588>,\n",
       " <matplotlib.lines.Line2D at 0x54e676d8>,\n",
       " <matplotlib.lines.Line2D at 0x54e67828>,\n",
       " <matplotlib.lines.Line2D at 0x54e67978>,\n",
       " <matplotlib.lines.Line2D at 0x54e67ac8>,\n",
       " <matplotlib.lines.Line2D at 0x54e67c18>,\n",
       " <matplotlib.lines.Line2D at 0x54e67d68>,\n",
       " <matplotlib.lines.Line2D at 0x54e67eb8>,\n",
       " <matplotlib.lines.Line2D at 0x54e6d048>,\n",
       " <matplotlib.lines.Line2D at 0x54e6d198>,\n",
       " <matplotlib.lines.Line2D at 0x54e6d2e8>,\n",
       " <matplotlib.lines.Line2D at 0x54e6d438>,\n",
       " <matplotlib.lines.Line2D at 0x54e6d588>,\n",
       " <matplotlib.lines.Line2D at 0x54e6d6d8>,\n",
       " <matplotlib.lines.Line2D at 0x54e6d828>,\n",
       " <matplotlib.lines.Line2D at 0x54e6d978>,\n",
       " <matplotlib.lines.Line2D at 0x54e6dac8>,\n",
       " <matplotlib.lines.Line2D at 0x54e6dc18>,\n",
       " <matplotlib.lines.Line2D at 0x54e6dd68>,\n",
       " <matplotlib.lines.Line2D at 0x54e6deb8>,\n",
       " <matplotlib.lines.Line2D at 0x54e71048>,\n",
       " <matplotlib.lines.Line2D at 0x54e71198>,\n",
       " <matplotlib.lines.Line2D at 0x54e712e8>,\n",
       " <matplotlib.lines.Line2D at 0x54e71438>,\n",
       " <matplotlib.lines.Line2D at 0x54e71588>,\n",
       " <matplotlib.lines.Line2D at 0x54e716d8>,\n",
       " <matplotlib.lines.Line2D at 0x54e71828>,\n",
       " <matplotlib.lines.Line2D at 0x54e71978>,\n",
       " <matplotlib.lines.Line2D at 0x54e71ac8>,\n",
       " <matplotlib.lines.Line2D at 0x54e71c18>,\n",
       " <matplotlib.lines.Line2D at 0x54e71d68>,\n",
       " <matplotlib.lines.Line2D at 0x54e71eb8>,\n",
       " <matplotlib.lines.Line2D at 0x54e77048>,\n",
       " <matplotlib.lines.Line2D at 0x54e77198>,\n",
       " <matplotlib.lines.Line2D at 0x54e772e8>,\n",
       " <matplotlib.lines.Line2D at 0x54e77438>,\n",
       " <matplotlib.lines.Line2D at 0x54e77588>,\n",
       " <matplotlib.lines.Line2D at 0x54e776d8>,\n",
       " <matplotlib.lines.Line2D at 0x54e77828>,\n",
       " <matplotlib.lines.Line2D at 0x54e77978>,\n",
       " <matplotlib.lines.Line2D at 0x54e77ac8>,\n",
       " <matplotlib.lines.Line2D at 0x54e77c18>,\n",
       " <matplotlib.lines.Line2D at 0x54e77d68>,\n",
       " <matplotlib.lines.Line2D at 0x54e77eb8>,\n",
       " <matplotlib.lines.Line2D at 0x54e7b048>,\n",
       " <matplotlib.lines.Line2D at 0x54e7b198>,\n",
       " <matplotlib.lines.Line2D at 0x54e7b2e8>,\n",
       " <matplotlib.lines.Line2D at 0x54e7b438>,\n",
       " <matplotlib.lines.Line2D at 0x54e7b588>,\n",
       " <matplotlib.lines.Line2D at 0x54e7b6d8>,\n",
       " <matplotlib.lines.Line2D at 0x54e7b828>,\n",
       " <matplotlib.lines.Line2D at 0x54e7b978>,\n",
       " <matplotlib.lines.Line2D at 0x54e7bac8>,\n",
       " <matplotlib.lines.Line2D at 0x54e7bc18>,\n",
       " <matplotlib.lines.Line2D at 0x54e7bd68>,\n",
       " <matplotlib.lines.Line2D at 0x54e7beb8>,\n",
       " <matplotlib.lines.Line2D at 0x54e81048>,\n",
       " <matplotlib.lines.Line2D at 0x54e81198>,\n",
       " <matplotlib.lines.Line2D at 0x54e812e8>,\n",
       " <matplotlib.lines.Line2D at 0x54e81438>,\n",
       " <matplotlib.lines.Line2D at 0x54e81588>,\n",
       " <matplotlib.lines.Line2D at 0x54e816d8>,\n",
       " <matplotlib.lines.Line2D at 0x54e81828>,\n",
       " <matplotlib.lines.Line2D at 0x54e81978>,\n",
       " <matplotlib.lines.Line2D at 0x54e81ac8>,\n",
       " <matplotlib.lines.Line2D at 0x54e81c18>,\n",
       " <matplotlib.lines.Line2D at 0x54e81d68>,\n",
       " <matplotlib.lines.Line2D at 0x54e81eb8>,\n",
       " <matplotlib.lines.Line2D at 0x54e85048>,\n",
       " <matplotlib.lines.Line2D at 0x54e85198>,\n",
       " <matplotlib.lines.Line2D at 0x54e852e8>,\n",
       " <matplotlib.lines.Line2D at 0x54e85438>,\n",
       " <matplotlib.lines.Line2D at 0x54e85588>,\n",
       " <matplotlib.lines.Line2D at 0x54e856d8>,\n",
       " <matplotlib.lines.Line2D at 0x54e85828>,\n",
       " <matplotlib.lines.Line2D at 0x54e85978>,\n",
       " <matplotlib.lines.Line2D at 0x54e85ac8>,\n",
       " <matplotlib.lines.Line2D at 0x54e85c18>,\n",
       " <matplotlib.lines.Line2D at 0x54e85d68>,\n",
       " <matplotlib.lines.Line2D at 0x54e85eb8>,\n",
       " <matplotlib.lines.Line2D at 0x54e8d048>,\n",
       " <matplotlib.lines.Line2D at 0x54e8d198>,\n",
       " <matplotlib.lines.Line2D at 0x54e8d2e8>,\n",
       " <matplotlib.lines.Line2D at 0x54e8d438>,\n",
       " <matplotlib.lines.Line2D at 0x54e8d588>,\n",
       " <matplotlib.lines.Line2D at 0x54e8d6d8>,\n",
       " <matplotlib.lines.Line2D at 0x54e8d828>,\n",
       " <matplotlib.lines.Line2D at 0x54e8d978>,\n",
       " <matplotlib.lines.Line2D at 0x54e8dac8>,\n",
       " <matplotlib.lines.Line2D at 0x54e8dc18>,\n",
       " <matplotlib.lines.Line2D at 0x54e8dd68>,\n",
       " <matplotlib.lines.Line2D at 0x54e8deb8>,\n",
       " <matplotlib.lines.Line2D at 0x54e90048>,\n",
       " <matplotlib.lines.Line2D at 0x54e90198>,\n",
       " <matplotlib.lines.Line2D at 0x54e902e8>,\n",
       " <matplotlib.lines.Line2D at 0x54e90438>,\n",
       " <matplotlib.lines.Line2D at 0x54e90588>,\n",
       " <matplotlib.lines.Line2D at 0x54e906d8>,\n",
       " <matplotlib.lines.Line2D at 0x54e90828>,\n",
       " <matplotlib.lines.Line2D at 0x54e90978>,\n",
       " <matplotlib.lines.Line2D at 0x54e90ac8>,\n",
       " <matplotlib.lines.Line2D at 0x54e90c18>,\n",
       " <matplotlib.lines.Line2D at 0x54e90d68>,\n",
       " <matplotlib.lines.Line2D at 0x54e90eb8>,\n",
       " <matplotlib.lines.Line2D at 0x54e95048>,\n",
       " <matplotlib.lines.Line2D at 0x54e95198>,\n",
       " <matplotlib.lines.Line2D at 0x54e952e8>,\n",
       " <matplotlib.lines.Line2D at 0x54e95438>,\n",
       " <matplotlib.lines.Line2D at 0x54e95588>,\n",
       " <matplotlib.lines.Line2D at 0x54e956d8>,\n",
       " <matplotlib.lines.Line2D at 0x54e95828>,\n",
       " <matplotlib.lines.Line2D at 0x54e95978>,\n",
       " <matplotlib.lines.Line2D at 0x54e95ac8>,\n",
       " <matplotlib.lines.Line2D at 0x54e95c18>,\n",
       " <matplotlib.lines.Line2D at 0x54e95d68>,\n",
       " <matplotlib.lines.Line2D at 0x54e95eb8>,\n",
       " <matplotlib.lines.Line2D at 0x54e9a048>,\n",
       " <matplotlib.lines.Line2D at 0x54e9a198>,\n",
       " <matplotlib.lines.Line2D at 0x54e9a2e8>,\n",
       " <matplotlib.lines.Line2D at 0x54e9a438>,\n",
       " <matplotlib.lines.Line2D at 0x54e9a588>,\n",
       " <matplotlib.lines.Line2D at 0x54e9a6d8>,\n",
       " <matplotlib.lines.Line2D at 0x54e9a828>,\n",
       " <matplotlib.lines.Line2D at 0x54e9a978>,\n",
       " <matplotlib.lines.Line2D at 0x54e9aac8>,\n",
       " <matplotlib.lines.Line2D at 0x54e9ac18>,\n",
       " <matplotlib.lines.Line2D at 0x54e9ad68>,\n",
       " <matplotlib.lines.Line2D at 0x54e9aeb8>,\n",
       " <matplotlib.lines.Line2D at 0x54ea0048>,\n",
       " <matplotlib.lines.Line2D at 0x54ea0198>,\n",
       " <matplotlib.lines.Line2D at 0x54ea02e8>,\n",
       " <matplotlib.lines.Line2D at 0x54ea0438>,\n",
       " <matplotlib.lines.Line2D at 0x54ea0588>,\n",
       " <matplotlib.lines.Line2D at 0x54ea06d8>,\n",
       " <matplotlib.lines.Line2D at 0x54ea0828>,\n",
       " <matplotlib.lines.Line2D at 0x54ea0978>,\n",
       " <matplotlib.lines.Line2D at 0x54ea0ac8>,\n",
       " <matplotlib.lines.Line2D at 0x54ea0c18>,\n",
       " <matplotlib.lines.Line2D at 0x54ea0d68>,\n",
       " <matplotlib.lines.Line2D at 0x54ea0eb8>,\n",
       " <matplotlib.lines.Line2D at 0x54ea4048>,\n",
       " <matplotlib.lines.Line2D at 0x54ea4198>,\n",
       " <matplotlib.lines.Line2D at 0x54ea42e8>,\n",
       " <matplotlib.lines.Line2D at 0x54ea4438>,\n",
       " <matplotlib.lines.Line2D at 0x54ea4588>,\n",
       " <matplotlib.lines.Line2D at 0x54ea46d8>,\n",
       " <matplotlib.lines.Line2D at 0x54ea4828>,\n",
       " <matplotlib.lines.Line2D at 0x54ea4978>,\n",
       " <matplotlib.lines.Line2D at 0x54ea4ac8>,\n",
       " <matplotlib.lines.Line2D at 0x54ea4c18>,\n",
       " <matplotlib.lines.Line2D at 0x54ea4d68>,\n",
       " <matplotlib.lines.Line2D at 0x54ea4eb8>,\n",
       " <matplotlib.lines.Line2D at 0x54ea9048>,\n",
       " <matplotlib.lines.Line2D at 0x54ea9198>,\n",
       " <matplotlib.lines.Line2D at 0x54ea92e8>,\n",
       " <matplotlib.lines.Line2D at 0x54ea9438>,\n",
       " <matplotlib.lines.Line2D at 0x54ea9588>,\n",
       " <matplotlib.lines.Line2D at 0x54ea96d8>,\n",
       " <matplotlib.lines.Line2D at 0x54ea9828>,\n",
       " <matplotlib.lines.Line2D at 0x54ea9978>,\n",
       " <matplotlib.lines.Line2D at 0x54ea9ac8>,\n",
       " <matplotlib.lines.Line2D at 0x54ea9c18>,\n",
       " <matplotlib.lines.Line2D at 0x54ea9d68>,\n",
       " <matplotlib.lines.Line2D at 0x54ea9eb8>,\n",
       " <matplotlib.lines.Line2D at 0x54eaf048>,\n",
       " <matplotlib.lines.Line2D at 0x54eaf198>,\n",
       " <matplotlib.lines.Line2D at 0x54eaf2e8>,\n",
       " <matplotlib.lines.Line2D at 0x54eaf438>,\n",
       " <matplotlib.lines.Line2D at 0x54eaf588>,\n",
       " <matplotlib.lines.Line2D at 0x54eaf6d8>,\n",
       " <matplotlib.lines.Line2D at 0x54eaf828>,\n",
       " <matplotlib.lines.Line2D at 0x54eaf978>,\n",
       " <matplotlib.lines.Line2D at 0x54eafac8>,\n",
       " <matplotlib.lines.Line2D at 0x54eafc18>,\n",
       " <matplotlib.lines.Line2D at 0x54eafd68>,\n",
       " <matplotlib.lines.Line2D at 0x54eafeb8>,\n",
       " <matplotlib.lines.Line2D at 0x54eb5048>,\n",
       " <matplotlib.lines.Line2D at 0x54eb5198>,\n",
       " <matplotlib.lines.Line2D at 0x54eb52e8>,\n",
       " <matplotlib.lines.Line2D at 0x54eb5438>,\n",
       " <matplotlib.lines.Line2D at 0x54eb5588>,\n",
       " <matplotlib.lines.Line2D at 0x54eb56d8>,\n",
       " <matplotlib.lines.Line2D at 0x54eb5828>,\n",
       " <matplotlib.lines.Line2D at 0x54eb5978>,\n",
       " <matplotlib.lines.Line2D at 0x54eb5ac8>,\n",
       " <matplotlib.lines.Line2D at 0x54eb5c18>,\n",
       " <matplotlib.lines.Line2D at 0x54eb5d68>,\n",
       " <matplotlib.lines.Line2D at 0x54eb5eb8>,\n",
       " <matplotlib.lines.Line2D at 0x54eb9048>,\n",
       " <matplotlib.lines.Line2D at 0x54eb9198>,\n",
       " <matplotlib.lines.Line2D at 0x54eb92e8>,\n",
       " <matplotlib.lines.Line2D at 0x54eb9438>,\n",
       " <matplotlib.lines.Line2D at 0x54eb9588>,\n",
       " <matplotlib.lines.Line2D at 0x54eb96d8>,\n",
       " <matplotlib.lines.Line2D at 0x54eb9828>,\n",
       " <matplotlib.lines.Line2D at 0x54eb9978>,\n",
       " <matplotlib.lines.Line2D at 0x54eb9ac8>,\n",
       " <matplotlib.lines.Line2D at 0x54eb9c18>,\n",
       " <matplotlib.lines.Line2D at 0x54eb9d68>,\n",
       " <matplotlib.lines.Line2D at 0x54eb9eb8>,\n",
       " <matplotlib.lines.Line2D at 0x54ebe048>,\n",
       " <matplotlib.lines.Line2D at 0x54ebe198>,\n",
       " <matplotlib.lines.Line2D at 0x54ebe2e8>,\n",
       " <matplotlib.lines.Line2D at 0x54ebe438>,\n",
       " <matplotlib.lines.Line2D at 0x54ebe588>,\n",
       " <matplotlib.lines.Line2D at 0x54ebe6d8>,\n",
       " <matplotlib.lines.Line2D at 0x54ebe828>,\n",
       " <matplotlib.lines.Line2D at 0x54ebe978>,\n",
       " <matplotlib.lines.Line2D at 0x54ebeac8>,\n",
       " <matplotlib.lines.Line2D at 0x54ebec18>,\n",
       " <matplotlib.lines.Line2D at 0x54ebed68>,\n",
       " <matplotlib.lines.Line2D at 0x54ebeeb8>,\n",
       " <matplotlib.lines.Line2D at 0x54ec4048>,\n",
       " <matplotlib.lines.Line2D at 0x54ec4198>,\n",
       " <matplotlib.lines.Line2D at 0x54ec42e8>,\n",
       " <matplotlib.lines.Line2D at 0x54ec4438>,\n",
       " <matplotlib.lines.Line2D at 0x54ec4588>,\n",
       " <matplotlib.lines.Line2D at 0x54ec46d8>,\n",
       " <matplotlib.lines.Line2D at 0x54ec4828>,\n",
       " <matplotlib.lines.Line2D at 0x54ec4978>,\n",
       " <matplotlib.lines.Line2D at 0x54ec4ac8>,\n",
       " <matplotlib.lines.Line2D at 0x54ec4c18>,\n",
       " <matplotlib.lines.Line2D at 0x54ec4d68>,\n",
       " <matplotlib.lines.Line2D at 0x54ec4eb8>,\n",
       " <matplotlib.lines.Line2D at 0x54ec9048>,\n",
       " <matplotlib.lines.Line2D at 0x54ec9198>,\n",
       " <matplotlib.lines.Line2D at 0x54ec92e8>,\n",
       " <matplotlib.lines.Line2D at 0x54ec9438>,\n",
       " <matplotlib.lines.Line2D at 0x54ec9588>,\n",
       " <matplotlib.lines.Line2D at 0x54ec96d8>,\n",
       " <matplotlib.lines.Line2D at 0x54ec9828>,\n",
       " <matplotlib.lines.Line2D at 0x54ec9978>,\n",
       " <matplotlib.lines.Line2D at 0x54ec9ac8>,\n",
       " <matplotlib.lines.Line2D at 0x54ec9c18>,\n",
       " <matplotlib.lines.Line2D at 0x54ec9d68>,\n",
       " <matplotlib.lines.Line2D at 0x54ec9eb8>,\n",
       " <matplotlib.lines.Line2D at 0x54ece048>,\n",
       " <matplotlib.lines.Line2D at 0x54ece198>,\n",
       " <matplotlib.lines.Line2D at 0x54ece2e8>,\n",
       " <matplotlib.lines.Line2D at 0x54ece438>,\n",
       " <matplotlib.lines.Line2D at 0x54ece588>,\n",
       " <matplotlib.lines.Line2D at 0x54ece6d8>,\n",
       " <matplotlib.lines.Line2D at 0x54ece828>,\n",
       " <matplotlib.lines.Line2D at 0x54ece978>,\n",
       " <matplotlib.lines.Line2D at 0x54eceac8>,\n",
       " <matplotlib.lines.Line2D at 0x54ecec18>,\n",
       " <matplotlib.lines.Line2D at 0x54eced68>,\n",
       " <matplotlib.lines.Line2D at 0x54eceeb8>,\n",
       " <matplotlib.lines.Line2D at 0x54ed3048>,\n",
       " <matplotlib.lines.Line2D at 0x54ed3198>,\n",
       " <matplotlib.lines.Line2D at 0x54ed32e8>,\n",
       " <matplotlib.lines.Line2D at 0x54ed3438>,\n",
       " <matplotlib.lines.Line2D at 0x54ed3588>,\n",
       " <matplotlib.lines.Line2D at 0x54ed36d8>,\n",
       " <matplotlib.lines.Line2D at 0x54ed3828>,\n",
       " <matplotlib.lines.Line2D at 0x54ed3978>,\n",
       " <matplotlib.lines.Line2D at 0x54ed3ac8>,\n",
       " <matplotlib.lines.Line2D at 0x54ed3c18>,\n",
       " <matplotlib.lines.Line2D at 0x54ed3d68>,\n",
       " <matplotlib.lines.Line2D at 0x54ed3eb8>,\n",
       " <matplotlib.lines.Line2D at 0x54ed8048>,\n",
       " <matplotlib.lines.Line2D at 0x54ed8198>,\n",
       " <matplotlib.lines.Line2D at 0x54ed82e8>,\n",
       " <matplotlib.lines.Line2D at 0x54ed8438>,\n",
       " <matplotlib.lines.Line2D at 0x54ed8588>,\n",
       " <matplotlib.lines.Line2D at 0x54ed86d8>,\n",
       " <matplotlib.lines.Line2D at 0x54ed8828>,\n",
       " <matplotlib.lines.Line2D at 0x54ed8978>,\n",
       " <matplotlib.lines.Line2D at 0x54ed8ac8>,\n",
       " <matplotlib.lines.Line2D at 0x54ed8c18>,\n",
       " <matplotlib.lines.Line2D at 0x54ed8d68>,\n",
       " <matplotlib.lines.Line2D at 0x54ed8eb8>,\n",
       " <matplotlib.lines.Line2D at 0x54edd048>,\n",
       " <matplotlib.lines.Line2D at 0x54edd198>,\n",
       " <matplotlib.lines.Line2D at 0x54edd2e8>,\n",
       " <matplotlib.lines.Line2D at 0x54edd438>,\n",
       " <matplotlib.lines.Line2D at 0x54edd588>,\n",
       " <matplotlib.lines.Line2D at 0x54edd6d8>,\n",
       " <matplotlib.lines.Line2D at 0x54edd828>,\n",
       " <matplotlib.lines.Line2D at 0x54edd978>,\n",
       " <matplotlib.lines.Line2D at 0x54eddac8>,\n",
       " <matplotlib.lines.Line2D at 0x54eddc18>,\n",
       " <matplotlib.lines.Line2D at 0x54eddd68>,\n",
       " <matplotlib.lines.Line2D at 0x54eddeb8>,\n",
       " <matplotlib.lines.Line2D at 0x54ee3048>,\n",
       " <matplotlib.lines.Line2D at 0x54ee3198>,\n",
       " <matplotlib.lines.Line2D at 0x54ee32e8>,\n",
       " <matplotlib.lines.Line2D at 0x54ee3438>,\n",
       " <matplotlib.lines.Line2D at 0x54ee3588>,\n",
       " <matplotlib.lines.Line2D at 0x54ee36d8>,\n",
       " <matplotlib.lines.Line2D at 0x54ee3828>,\n",
       " <matplotlib.lines.Line2D at 0x54ee3978>,\n",
       " <matplotlib.lines.Line2D at 0x54ee3ac8>,\n",
       " <matplotlib.lines.Line2D at 0x54ee3c18>,\n",
       " <matplotlib.lines.Line2D at 0x54ee3d68>,\n",
       " <matplotlib.lines.Line2D at 0x54ee3eb8>,\n",
       " <matplotlib.lines.Line2D at 0x54ee8048>,\n",
       " <matplotlib.lines.Line2D at 0x54ee8198>,\n",
       " <matplotlib.lines.Line2D at 0x54ee82e8>,\n",
       " <matplotlib.lines.Line2D at 0x54ee8438>,\n",
       " <matplotlib.lines.Line2D at 0x54ee8588>,\n",
       " <matplotlib.lines.Line2D at 0x54ee86d8>,\n",
       " <matplotlib.lines.Line2D at 0x54ee8828>,\n",
       " <matplotlib.lines.Line2D at 0x54ee8978>,\n",
       " <matplotlib.lines.Line2D at 0x54ee8ac8>,\n",
       " <matplotlib.lines.Line2D at 0x54ee8c18>,\n",
       " <matplotlib.lines.Line2D at 0x54ee8d68>,\n",
       " <matplotlib.lines.Line2D at 0x54ee8eb8>,\n",
       " <matplotlib.lines.Line2D at 0x54eed048>,\n",
       " <matplotlib.lines.Line2D at 0x54eed198>,\n",
       " <matplotlib.lines.Line2D at 0x54eed2e8>,\n",
       " <matplotlib.lines.Line2D at 0x54eed438>,\n",
       " <matplotlib.lines.Line2D at 0x54eed588>,\n",
       " <matplotlib.lines.Line2D at 0x54eed6d8>,\n",
       " <matplotlib.lines.Line2D at 0x54eed828>,\n",
       " <matplotlib.lines.Line2D at 0x54eed978>,\n",
       " <matplotlib.lines.Line2D at 0x54eedac8>,\n",
       " <matplotlib.lines.Line2D at 0x54eedc18>,\n",
       " <matplotlib.lines.Line2D at 0x54eedd68>,\n",
       " <matplotlib.lines.Line2D at 0x54eedeb8>,\n",
       " <matplotlib.lines.Line2D at 0x54ef2048>,\n",
       " <matplotlib.lines.Line2D at 0x54ef2198>,\n",
       " <matplotlib.lines.Line2D at 0x54ef22e8>,\n",
       " <matplotlib.lines.Line2D at 0x54ef2438>,\n",
       " <matplotlib.lines.Line2D at 0x54ef2588>,\n",
       " <matplotlib.lines.Line2D at 0x54ef26d8>,\n",
       " <matplotlib.lines.Line2D at 0x54ef2828>,\n",
       " <matplotlib.lines.Line2D at 0x54ef2978>,\n",
       " <matplotlib.lines.Line2D at 0x54ef2ac8>,\n",
       " <matplotlib.lines.Line2D at 0x54ef2c18>,\n",
       " <matplotlib.lines.Line2D at 0x54ef2d68>,\n",
       " <matplotlib.lines.Line2D at 0x54ef2eb8>,\n",
       " <matplotlib.lines.Line2D at 0x54ef8048>,\n",
       " <matplotlib.lines.Line2D at 0x54ef8198>,\n",
       " <matplotlib.lines.Line2D at 0x54ef82e8>,\n",
       " <matplotlib.lines.Line2D at 0x54ef8438>,\n",
       " <matplotlib.lines.Line2D at 0x54ef8588>,\n",
       " <matplotlib.lines.Line2D at 0x54ef86d8>,\n",
       " <matplotlib.lines.Line2D at 0x54ef8828>,\n",
       " ...]"
      ]
     },
     "execution_count": 27,
     "metadata": {},
     "output_type": "execute_result"
    },
    {
     "data": {
      "image/png": "[encoded data removed]",
      "text/plain": [
       "<Figure size 432x288 with 1 Axes>"
      ]
     },
     "metadata": {
      "needs_background": "light"
     },
     "output_type": "display_data"
    }
   ],
   "source": [
    "photodiode_thresholded = np.where(photodiode_raw > 0.5)\n",
    "\n",
    "                                \n",
    "plt.plot(photodiode_thresholded)"
   ]
  },
  {
   "cell_type": "code",
   "execution_count": null,
   "metadata": {},
   "outputs": [],
   "source": [
    "stim_times = np.diff(photodiode_raw > 1)\n",
    "                                \n",
    "plt.plot(stim_times)"
   ]
  },
  {
   "cell_type": "code",
   "execution_count": null,
   "metadata": {},
   "outputs": [],
   "source": [
    "stim_times = np.diff(photodiode_raw > 1)\n"
   ]
  },
  {
   "cell_type": "code",
   "execution_count": 1,
   "metadata": {},
   "outputs": [
    {
     "ename": "NameError",
     "evalue": "name 'np' is not defined",
     "output_type": "error",
     "traceback": [
      "\u001b[1;31m---------------------------------------------------------------------------\u001b[0m",
      "\u001b[1;31mNameError\u001b[0m                                 Traceback (most recent call last)",
      "\u001b[1;32m<ipython-input-1-e6e34c3758d6>\u001b[0m in \u001b[0;36m<module>\u001b[1;34m\u001b[0m\n\u001b[1;32m----> 1\u001b[1;33m \u001b[0mstim_times\u001b[0m \u001b[1;33m=\u001b[0m \u001b[0mnp\u001b[0m\u001b[1;33m.\u001b[0m\u001b[0mdiff\u001b[0m\u001b[1;33m(\u001b[0m\u001b[0mphotodiode_raw\u001b[0m \u001b[1;33m>\u001b[0m \u001b[1;36m1\u001b[0m\u001b[1;33m)\u001b[0m\u001b[1;33m\u001b[0m\u001b[1;33m\u001b[0m\u001b[0m\n\u001b[0m",
      "\u001b[1;31mNameError\u001b[0m: name 'np' is not defined"
     ]
    }
   ],
   "source": [
    "stim_times = np.diff(photodiode_raw > 1) \n"
   ]
  },
  {
   "cell_type": "code",
   "execution_count": 2,
   "metadata": {},
   "outputs": [],
   "source": [
    "import numpy as np"
   ]
  },
  {
   "cell_type": "code",
   "execution_count": 3,
   "metadata": {},
   "outputs": [
    {
     "ename": "NameError",
     "evalue": "name 'photodiode_raw' is not defined",
     "output_type": "error",
     "traceback": [
      "\u001b[1;31m---------------------------------------------------------------------------\u001b[0m",
      "\u001b[1;31mNameError\u001b[0m                                 Traceback (most recent call last)",
      "\u001b[1;32m<ipython-input-3-568207a3b7f4>\u001b[0m in \u001b[0;36m<module>\u001b[1;34m\u001b[0m\n\u001b[1;32m----> 1\u001b[1;33m \u001b[0mstim_times\u001b[0m \u001b[1;33m=\u001b[0m \u001b[0mnp\u001b[0m\u001b[1;33m.\u001b[0m\u001b[0mdiff\u001b[0m\u001b[1;33m(\u001b[0m\u001b[0mphotodiode_raw\u001b[0m \u001b[1;33m>\u001b[0m \u001b[1;36m1\u001b[0m\u001b[1;33m)\u001b[0m\u001b[1;33m\u001b[0m\u001b[1;33m\u001b[0m\u001b[0m\n\u001b[0m\u001b[0;32m      2\u001b[0m \u001b[1;33m\u001b[0m\u001b[0m\n\u001b[0;32m      3\u001b[0m \u001b[0mplt\u001b[0m\u001b[1;33m.\u001b[0m\u001b[0mplot\u001b[0m\u001b[1;33m(\u001b[0m\u001b[0mstim_times\u001b[0m\u001b[1;33m)\u001b[0m\u001b[1;33m\u001b[0m\u001b[1;33m\u001b[0m\u001b[0m\n",
      "\u001b[1;31mNameError\u001b[0m: name 'photodiode_raw' is not defined"
     ]
    }
   ],
   "source": [
    "stim_times = np.diff(photodiode_raw > 1)\n",
    "                                \n",
    "plt.plot(stim_times)\n"
   ]
  },
  {
   "cell_type": "code",
   "execution_count": 4,
   "metadata": {},
   "outputs": [],
   "source": [
    "# POST RESTART\n",
    "\n"
   ]
  },
  {
   "cell_type": "code",
   "execution_count": 5,
   "metadata": {},
   "outputs": [],
   "source": [
    "from nptdms import TdmsFile\n",
    "import numpy as np\n",
    "import pandas as pd\n",
    "from matplotlib import pyplot as plt\n",
    "\n"
   ]
  },
  {
   "cell_type": "code",
   "execution_count": 6,
   "metadata": {},
   "outputs": [],
   "source": [
    "tdms_path = r'C:\\Users\\maksymilianm\\Dropbox (UCL - SWC)\\Project_spiders\\Raw_data\\def_behav_probe\\29.10.19_sp1_LDR.tdms' \n",
    "tdms_file = TdmsFile(tdms_path)"
   ]
  },
  {
   "cell_type": "code",
   "execution_count": 62,
   "metadata": {},
   "outputs": [
    {
     "name": "stdout",
     "output_type": "stream",
     "text": [
      "spider_camera_input\n",
      "Photodiode\n",
      "t0\n"
     ]
    }
   ],
   "source": [
    "for key in tdms_file.groups():\n",
    "    print(key)"
   ]
  },
  {
   "cell_type": "code",
   "execution_count": 63,
   "metadata": {},
   "outputs": [
    {
     "data": {
      "image/png": "[encoded data removed]",
      "text/plain": [
       "<Figure size 432x288 with 1 Axes>"
      ]
     },
     "metadata": {
      "needs_background": "light"
     },
     "output_type": "display_data"
    }
   ],
   "source": [
    "photodiode_raw = tdms_file.group_channels('Photodiode')[0].data\n",
    "spider_camera_input = tdms_file.group_channels('spider_camera_input')[0].data\n",
    "t0 = tdms_file.group_channels('t0')[0].data\n",
    "plt.plot(photodiode_raw)\n",
    "plt.show()\n"
   ]
  },
  {
   "cell_type": "code",
   "execution_count": 64,
   "metadata": {},
   "outputs": [
    {
     "data": {
      "text/plain": [
       "array([69051.12621958])"
      ]
     },
     "execution_count": 64,
     "metadata": {},
     "output_type": "execute_result"
    }
   ],
   "source": [
    "t0"
   ]
  },
  {
   "cell_type": "code",
   "execution_count": 8,
   "metadata": {
    "scrolled": false
   },
   "outputs": [
    {
     "data": {
      "text/plain": [
       "[<matplotlib.lines.Line2D at 0x61681320>]"
      ]
     },
     "execution_count": 8,
     "metadata": {},
     "output_type": "execute_result"
    },
    {
     "data": {
      "image/png": "[encoded data removed]",
      "text/plain": [
       "<Figure size 432x288 with 1 Axes>"
      ]
     },
     "metadata": {
      "needs_background": "light"
     },
     "output_type": "display_data"
    }
   ],
   "source": [
    "\n",
    "stim_times = np.diff(photodiode_raw > 1)                             \n",
    "plt.plot(stim_times)"
   ]
  },
  {
   "cell_type": "code",
   "execution_count": 10,
   "metadata": {},
   "outputs": [
    {
     "name": "stdout",
     "output_type": "stream",
     "text": [
      "(array([ 2141240,  2141241,  2141242, ..., 43409546, 43409547, 43409548],\n",
      "      dtype=int64),)\n"
     ]
    }
   ],
   "source": [
    "stim_times = np.where(photodiode_raw > 1)\n",
    "print(stim_times)\n"
   ]
  },
  {
   "cell_type": "code",
   "execution_count": 61,
   "metadata": {},
   "outputs": [
    {
     "data": {
      "text/plain": [
       "21.39"
      ]
     },
     "execution_count": 61,
     "metadata": {},
     "output_type": "execute_result"
    }
   ],
   "source": [
    "n_samples = len(photodiode_raw)\n",
    "(n_samples - 44265000) / 25000\n"
   ]
  },
  {
   "cell_type": "code",
   "execution_count": null,
   "metadata": {},
   "outputs": [],
   "source": []
  },
  {
   "cell_type": "code",
   "execution_count": 11,
   "metadata": {},
   "outputs": [
    {
     "name": "stdout",
     "output_type": "stream",
     "text": [
      "[False False False ... False False False]\n"
     ]
    }
   ],
   "source": [
    "triggers = np.diff(photodiode_raw)>0.5\n",
    "print(triggers)"
   ]
  },
  {
   "cell_type": "code",
   "execution_count": 12,
   "metadata": {},
   "outputs": [
    {
     "name": "stdout",
     "output_type": "stream",
     "text": [
      "[-0.00144893  0.         -0.00032198 ...  0.00048298 -0.00048298\n",
      "  0.00032198]\n"
     ]
    }
   ],
   "source": [
    "triggers = np.diff(photodiode_raw)\n",
    "print(triggers)"
   ]
  },
  {
   "cell_type": "code",
   "execution_count": 21,
   "metadata": {},
   "outputs": [
    {
     "name": "stdout",
     "output_type": "stream",
     "text": [
      "(array([ 2149999,  2174999,  2199999,  2224999,  2249999,  2274999,\n",
      "       12149999, 12174999, 12199999, 12224999, 12249999, 16499999,\n",
      "       16524999, 16549999, 16574999, 16599999, 16624999, 23049999,\n",
      "       23074999, 23099999, 23124999, 23149999, 23174999, 23299999,\n",
      "       23324999, 23349999, 23374999, 23399999, 23424999, 29849999,\n",
      "       29874999, 29899999, 29924999, 29949999, 29974999, 35249999,\n",
      "       35274999, 35299999, 35324999, 35349999, 43274999, 43299999,\n",
      "       43324999, 43349999, 43374999, 43399999], dtype=int64),)\n"
     ]
    }
   ],
   "source": [
    "stim_times = np.where(triggers > 1)\n",
    "print(stim_times)"
   ]
  },
  {
   "cell_type": "code",
   "execution_count": 17,
   "metadata": {},
   "outputs": [
    {
     "name": "stdout",
     "output_type": "stream",
     "text": [
      "(array([], dtype=int64),)\n"
     ]
    }
   ],
   "source": [
    "stim_times = np.where(triggers > 2)\n",
    "print(stim_times)"
   ]
  },
  {
   "cell_type": "code",
   "execution_count": 22,
   "metadata": {},
   "outputs": [
    {
     "data": {
      "text/plain": [
       "[<matplotlib.lines.Line2D at 0x61713d30>]"
      ]
     },
     "execution_count": 22,
     "metadata": {},
     "output_type": "execute_result"
    },
    {
     "data": {
      "image/png": "[encoded data removed]",
      "text/plain": [
       "<Figure size 432x288 with 1 Axes>"
      ]
     },
     "metadata": {
      "needs_background": "light"
     },
     "output_type": "display_data"
    }
   ],
   "source": [
    "low_pulse_indexes = np.where(photodiode_raw < 0.1)\n",
    "photodiode_smoothed = photodiode_raw\n",
    "\n",
    "for i in low_pulse_indexes:\n",
    "    photodiode_smoothed[i] = photodiode_smoothed[i-1]\n",
    "\n",
    "plt.plot(photodiode_smoothed)\n"
   ]
  },
  {
   "cell_type": "code",
   "execution_count": 30,
   "metadata": {},
   "outputs": [
    {
     "name": "stdout",
     "output_type": "stream",
     "text": [
      "(array([], dtype=int64),)\n"
     ]
    }
   ],
   "source": [
    "triggers = np.diff(photodiode_smoothed)\n",
    "stim_times = np.where(triggers < -1)\n",
    "print(stim_times)"
   ]
  },
  {
   "cell_type": "code",
   "execution_count": 28,
   "metadata": {},
   "outputs": [
    {
     "name": "stdout",
     "output_type": "stream",
     "text": [
      "[-0.00144893  0.         -0.00032198 ... -0.00032198  0.00048298\n",
      " -0.00048298]\n"
     ]
    }
   ],
   "source": [
    "triggers = np.diff(photodiode_smoothed) \n",
    "print(triggers)"
   ]
  },
  {
   "cell_type": "code",
   "execution_count": 34,
   "metadata": {},
   "outputs": [],
   "source": [
    "triggers = np.where(photodiode_smoothed > 0.5)"
   ]
  },
  {
   "cell_type": "code",
   "execution_count": 35,
   "metadata": {},
   "outputs": [
    {
     "name": "stdout",
     "output_type": "stream",
     "text": [
      "(array([ 2141044,  2141045,  2141046, ..., 43410407, 43410408, 43410411],\n",
      "      dtype=int64),)\n"
     ]
    }
   ],
   "source": [
    "print(triggers)"
   ]
  },
  {
   "cell_type": "code",
   "execution_count": 36,
   "metadata": {},
   "outputs": [
    {
     "data": {
      "text/plain": [
       "[<matplotlib.lines.Line2D at 0x6174a208>]"
      ]
     },
     "execution_count": 36,
     "metadata": {},
     "output_type": "execute_result"
    },
    {
     "data": {
      "image/png": "[encoded data removed]",
      "text/plain": [
       "<Figure size 432x288 with 1 Axes>"
      ]
     },
     "metadata": {
      "needs_background": "light"
     },
     "output_type": "display_data"
    }
   ],
   "source": [
    "plt.plot(photodiode_smoothed)"
   ]
  },
  {
   "cell_type": "code",
   "execution_count": 37,
   "metadata": {},
   "outputs": [
    {
     "data": {
      "text/plain": [
       "(2140000, 2150000)"
      ]
     },
     "execution_count": 37,
     "metadata": {},
     "output_type": "execute_result"
    },
    {
     "data": {
      "image/png": "[encoded data removed]",
      "text/plain": [
       "<Figure size 432x288 with 1 Axes>"
      ]
     },
     "metadata": {
      "needs_background": "light"
     },
     "output_type": "display_data"
    }
   ],
   "source": [
    "plt.plot(photodiode_smoothed)\n",
    "plt.xlim(2140000, 2150000)"
   ]
  },
  {
   "cell_type": "code",
   "execution_count": 38,
   "metadata": {},
   "outputs": [
    {
     "data": {
      "text/plain": [
       "(2140000, 2180000)"
      ]
     },
     "execution_count": 38,
     "metadata": {},
     "output_type": "execute_result"
    },
    {
     "data": {
      "image/png": "[encoded data removed]",
      "text/plain": [
       "<Figure size 432x288 with 1 Axes>"
      ]
     },
     "metadata": {
      "needs_background": "light"
     },
     "output_type": "display_data"
    }
   ],
   "source": [
    "plt.plot(photodiode_smoothed)\n",
    "plt.xlim(2140000, 2180000)"
   ]
  },
  {
   "cell_type": "code",
   "execution_count": 39,
   "metadata": {},
   "outputs": [
    {
     "data": {
      "text/plain": [
       "(2140000, 2200000)"
      ]
     },
     "execution_count": 39,
     "metadata": {},
     "output_type": "execute_result"
    },
    {
     "data": {
      "image/png": "[encoded data removed]",
      "text/plain": [
       "<Figure size 432x288 with 1 Axes>"
      ]
     },
     "metadata": {
      "needs_background": "light"
     },
     "output_type": "display_data"
    }
   ],
   "source": [
    "plt.plot(photodiode_smoothed)\n",
    "plt.xlim(2140000, 2200000)"
   ]
  },
  {
   "cell_type": "code",
   "execution_count": 40,
   "metadata": {},
   "outputs": [
    {
     "data": {
      "text/plain": [
       "(2140000, 2400000)"
      ]
     },
     "execution_count": 40,
     "metadata": {},
     "output_type": "execute_result"
    },
    {
     "data": {
      "image/png": "[encoded data removed]",
      "text/plain": [
       "<Figure size 432x288 with 1 Axes>"
      ]
     },
     "metadata": {
      "needs_background": "light"
     },
     "output_type": "display_data"
    }
   ],
   "source": [
    "plt.plot(photodiode_smoothed)\n",
    "plt.xlim(2140000, 2400000)"
   ]
  },
  {
   "cell_type": "code",
   "execution_count": 41,
   "metadata": {},
   "outputs": [],
   "source": [
    "triggers = np.diff(photodiode_smoothed) "
   ]
  },
  {
   "cell_type": "code",
   "execution_count": 42,
   "metadata": {},
   "outputs": [
    {
     "data": {
      "text/plain": [
       "(2140000, 2150000)"
      ]
     },
     "execution_count": 42,
     "metadata": {},
     "output_type": "execute_result"
    },
    {
     "data": {
      "image/png": "[encoded data removed]",
      "text/plain": [
       "<Figure size 432x288 with 1 Axes>"
      ]
     },
     "metadata": {
      "needs_background": "light"
     },
     "output_type": "display_data"
    }
   ],
   "source": [
    "plt.plot(photodiode_smoothed)\n",
    "plt.xlim(2140000, 2150000)\n"
   ]
  },
  {
   "cell_type": "code",
   "execution_count": 43,
   "metadata": {
    "scrolled": true
   },
   "outputs": [
    {
     "data": {
      "text/plain": [
       "(2141000, 2142000)"
      ]
     },
     "execution_count": 43,
     "metadata": {},
     "output_type": "execute_result"
    },
    {
     "data": {
      "image/png": "[encoded data removed]",
      "text/plain": [
       "<Figure size 432x288 with 1 Axes>"
      ]
     },
     "metadata": {
      "needs_background": "light"
     },
     "output_type": "display_data"
    }
   ],
   "source": [
    "plt.plot(photodiode_smoothed)\n",
    "plt.xlim(2141000, 2142000)"
   ]
  },
  {
   "cell_type": "code",
   "execution_count": 46,
   "metadata": {},
   "outputs": [
    {
     "name": "stdout",
     "output_type": "stream",
     "text": [
      "(array([], dtype=int64),)\n"
     ]
    }
   ],
   "source": [
    "stim_times = np.where(photodiode_smoothed == 0.50)\n",
    "print(stim_times)"
   ]
  },
  {
   "cell_type": "code",
   "execution_count": 47,
   "metadata": {},
   "outputs": [],
   "source": [
    "triggers = np.diff(photodiode_smoothed) "
   ]
  },
  {
   "cell_type": "code",
   "execution_count": 48,
   "metadata": {},
   "outputs": [
    {
     "name": "stdout",
     "output_type": "stream",
     "text": [
      "[-0.00144893  0.         -0.00032198 ... -0.00032198  0.00048298\n",
      " -0.00048298]\n"
     ]
    }
   ],
   "source": [
    "print(triggers)"
   ]
  },
  {
   "cell_type": "code",
   "execution_count": 57,
   "metadata": {},
   "outputs": [],
   "source": [
    "df = np.argmax(triggers, axis = 0)              "
   ]
  },
  {
   "cell_type": "code",
   "execution_count": 51,
   "metadata": {},
   "outputs": [
    {
     "name": "stdout",
     "output_type": "stream",
     "text": [
      "12111462\n"
     ]
    }
   ],
   "source": [
    "print(df)"
   ]
  },
  {
   "cell_type": "code",
   "execution_count": 65,
   "metadata": {},
   "outputs": [],
   "source": [
    " #np.where(a<0.5 and a+1>0.5)\n",
    "    "
   ]
  },
  {
   "cell_type": "code",
   "execution_count": 68,
   "metadata": {},
   "outputs": [
    {
     "ename": "NameError",
     "evalue": "name 'above' is not defined",
     "output_type": "error",
     "traceback": [
      "\u001b[1;31m---------------------------------------------------------------------------\u001b[0m",
      "\u001b[1;31mNameError\u001b[0m                                 Traceback (most recent call last)",
      "\u001b[1;32m<ipython-input-68-ded9bbf4bfdf>\u001b[0m in \u001b[0;36m<module>\u001b[1;34m\u001b[0m\n\u001b[1;32m----> 1\u001b[1;33m \u001b[1;32mif\u001b[0m \u001b[0mabove\u001b[0m\u001b[1;33m:\u001b[0m\u001b[1;33m\u001b[0m\u001b[1;33m\u001b[0m\u001b[0m\n\u001b[0m\u001b[0;32m      2\u001b[0m     \u001b[0mabove_th\u001b[0m \u001b[1;33m=\u001b[0m \u001b[0mnp\u001b[0m\u001b[1;33m.\u001b[0m\u001b[0mwhere\u001b[0m\u001b[1;33m(\u001b[0m\u001b[0msignal\u001b[0m\u001b[1;33m>\u001b[0m\u001b[0mth\u001b[0m\u001b[1;33m)\u001b[0m\u001b[1;33m[\u001b[0m\u001b[1;36m0\u001b[0m\u001b[1;33m]\u001b[0m\u001b[1;33m\u001b[0m\u001b[1;33m\u001b[0m\u001b[0m\n\u001b[0;32m      3\u001b[0m \u001b[1;32melse\u001b[0m\u001b[1;33m:\u001b[0m\u001b[1;33m\u001b[0m\u001b[1;33m\u001b[0m\u001b[0m\n\u001b[0;32m      4\u001b[0m     \u001b[0mabove_th\u001b[0m \u001b[1;33m=\u001b[0m \u001b[0mnp\u001b[0m\u001b[1;33m.\u001b[0m\u001b[0mwhere\u001b[0m\u001b[1;33m(\u001b[0m\u001b[0msignal\u001b[0m\u001b[1;33m<\u001b[0m\u001b[0mth\u001b[0m\u001b[1;33m)\u001b[0m\u001b[1;33m[\u001b[0m\u001b[1;36m0\u001b[0m\u001b[1;33m]\u001b[0m\u001b[1;33m\u001b[0m\u001b[1;33m\u001b[0m\u001b[0m\n\u001b[0;32m      5\u001b[0m \u001b[1;32mif\u001b[0m \u001b[1;32mnot\u001b[0m \u001b[0mnp\u001b[0m\u001b[1;33m.\u001b[0m\u001b[0many\u001b[0m\u001b[1;33m(\u001b[0m\u001b[0mabove_th\u001b[0m\u001b[1;33m)\u001b[0m\u001b[1;33m:\u001b[0m \u001b[1;32mreturn\u001b[0m \u001b[0mnp\u001b[0m\u001b[1;33m.\u001b[0m\u001b[0marray\u001b[0m\u001b[1;33m(\u001b[0m\u001b[1;33m[\u001b[0m\u001b[1;33m]\u001b[0m\u001b[1;33m)\u001b[0m\u001b[1;33m\u001b[0m\u001b[1;33m\u001b[0m\u001b[0m\n",
      "\u001b[1;31mNameError\u001b[0m: name 'above' is not defined"
     ]
    }
   ],
   "source": [
    "    if above:\n",
    "        above_th = np.where(signal>th)[0]\n",
    "    else:\n",
    "        above_th = np.where(signal<th)[0]\n",
    "    if not np.any(above_th): return np.array([])\n",
    "    peak_starts = [x for x,d in zip(above_th, np.diff(above_th)) if d > time_limit]\n",
    "    # add the first and last above_th times to make sure all frames are included\n",
    "    peak_starts.insert(0, above_th[0])\n",
    "    peak_starts.append(above_th[-1])\n",
    "    # we then remove the second item because it corresponds to the end of the first peak\n",
    "    peak_starts.pop(1)\n",
    "    return np.array(peak_starts)"
   ]
  },
  {
   "cell_type": "code",
   "execution_count": 15,
   "metadata": {},
   "outputs": [],
   "source": [
    "import numpy as np\n",
    "import matplotlib.pyplot as plt\n",
    "from scipy.signal import butter, lfilter, freqz, resample, wiener, gaussian\n",
    "from scipy.ndimage import filters\n",
    "from collections import namedtuple\n",
    "def butter_lowpass(cutoff, fs, order=5):\n",
    "    nyq = 0.5 * fs\n",
    "    normal_cutoff = cutoff / nyq\n",
    "    b, a = butter(order, normal_cutoff, btype='low', analog=False)\n",
    "    return b, a\n",
    "def butter_lowpass_filter(data, cutoff, fs, order=5):\n",
    "    b, a = butter_lowpass(cutoff, fs, order=order)\n",
    "    y = lfilter(b, a, data)\n",
    "    return y\n",
    "def find_peaks_in_signal(signal, time_limit, th, above=True):\n",
    "    \"\"\"[Function to find the start of square peaks in a time series. \n",
    "    Useful for example to find frame starts or stim starts in analog input data]\n",
    "    Arguments:\n",
    "        signal {[np.array]} -- [the time series to be analysd]\n",
    "        time_limit {[float]} -- [min time inbetween peaks]\n",
    "        th {[float]} -- [where to threshold the signal to identify the peaks]\n",
    "    Returns:\n",
    "        [np.ndarray] -- [peak starts times]\n",
    "    \"\"\"\n",
    "    if above:\n",
    "        above_th = np.where(signal>th)[0]\n",
    "    else:\n",
    "        above_th = np.where(signal<th)[0]\n",
    "    if not np.any(above_th): return np.array([])\n",
    "    peak_starts = [x for x,d in zip(above_th, np.diff(above_th)) if d > time_limit]\n",
    "    # add the first and last above_th times to make sure all frames are included\n",
    "    peak_starts.insert(0, above_th[0])\n",
    "    peak_starts.append(above_th[-1])\n",
    "    # we then remove the second item because it corresponds to the end of the first peak\n",
    "    peak_starts.pop(1)\n",
    "    return np.array(peak_starts)\n",
    "def find_visual_stimuli(data, th, sampling_rate):\n",
    "    \"\"\" [Filter the data to remove high freq noise, then take the diff and thereshold to find changes]\n",
    "        Arguments:\n",
    "            data {[np.ndarray]} -- [1D numpy array with sample data (extracted from TDMS)]\n",
    "            th {[int]} -- [Threshold]\n",
    "            sampling_rate {[int]} -- [sampling rate of experiment]\n",
    "    \"\"\"\n",
    "    filtered  = butter_lowpass_filter(data, 75, int(sampling_rate/2))\n",
    "    d_filt = np.diff(filtered)\n",
    "    # find start and ends of stimuli (when it goes above and under threhsold)\n",
    "    starts = find_peaks_in_signal(d_filt, 10000,  -0.0005, above=False )[1:]\n",
    "    ends = find_peaks_in_signal(d_filt, 10000, 0.0003, above=True )[1:]\n",
    "    # if the number of starts and ends doesnt match something went wrong\n",
    "    if not len(starts) == len(ends):\n",
    "        if abs(len(starts)-len(ends))>1: raise ValueError(\"Too large error during detection: s:{} e{}\".format(len(starts), len(ends)))\n",
    "        print(\"Something went wrong: {} - starts and {} - ends\".format(len(starts), len(ends)))\n",
    "        # ? Fo1r debugging\n",
    "        f, ax = plt.subplots()\n",
    "        ax.plot(filtered, color='r')\n",
    "        ax.plot(butter_lowpass_filter(np.diff(filtered), 75, int(sampling_rate/2)), color='g')\n",
    "        ax.scatter(starts, [0.25 for i in starts], c='r')\n",
    "        ax.scatter(ends, [0 for i in ends], c='k')\n",
    "        plt.show()\n",
    "        to_elim = int(input(\"Which one to delete \"))\n",
    "        if len(starts)  > len(ends):\n",
    "            starts = np.delete(starts, to_elim)\n",
    "        else:\n",
    "            ends = np.delete(ends, to_elim)\n",
    "    assert len(starts) == len(ends), \"cacca\"\n",
    "    # Return as a list of named tuples\n",
    "    stim = namedtuple(\"stim\", \"start end\")\n",
    "    stimuli =[stim(s,e) for s,e in zip(starts, ends)]\n",
    "    for s,e in stimuli:  # check that the end is after the start\n",
    "        if e < s: raise ValueError(\"Wrong stimuli detection\")\n",
    "    return stimuli"
   ]
  },
  {
   "cell_type": "code",
   "execution_count": 41,
   "metadata": {},
   "outputs": [
    {
     "data": {
      "image/png": "[encoded data removed]",
      "text/plain": [
       "<Figure size 432x288 with 1 Axes>"
      ]
     },
     "metadata": {
      "needs_background": "light"
     },
     "output_type": "display_data"
    }
   ],
   "source": [
    "from nptdms import TdmsFile\n",
    "import numpy as np\n",
    "import pandas as pd\n",
    "from matplotlib import pyplot as plt\n",
    "\n",
    "tdms_path = r'C:\\Users\\maksymilianm\\Dropbox (UCL - SWC)\\Project_spiders\\Raw_data\\def_behav_probe\\29.10.19_sp4_LDR.tdms'\n",
    "tdms_file = TdmsFile(tdms_path)\n",
    "\n",
    "photodiode_raw = tdms_file.group_channels('Photodiode')[0].data\n",
    "spider_camera_input = tdms_file.group_channels('spider_camera_input')[0].data\n",
    "t0 = tdms_file.group_channels('t0')[0].data\n",
    "plt.plot(photodiode_raw)\n",
    "plt.show()"
   ]
  },
  {
   "cell_type": "code",
   "execution_count": 7,
   "metadata": {},
   "outputs": [
    {
     "data": {
      "text/plain": [
       "array([ 2141044, 12271767, 16638647, 23176466, 23433455, 29980778,\n",
       "       35372629, 43410411], dtype=int64)"
      ]
     },
     "execution_count": 7,
     "metadata": {},
     "output_type": "execute_result"
    }
   ],
   "source": [
    "find_peaks_in_signal(photodiode_raw, 10000, 0.5)"
   ]
  },
  {
   "cell_type": "code",
   "execution_count": 21,
   "metadata": {
    "scrolled": true
   },
   "outputs": [
    {
     "ename": "ValueError",
     "evalue": "Too large error during detection: s:39 e50",
     "output_type": "error",
     "traceback": [
      "\u001b[1;31m---------------------------------------------------------------------------\u001b[0m",
      "\u001b[1;31mValueError\u001b[0m                                Traceback (most recent call last)",
      "\u001b[1;32m<ipython-input-21-b64806748d0f>\u001b[0m in \u001b[0;36m<module>\u001b[1;34m\u001b[0m\n\u001b[1;32m----> 1\u001b[1;33m \u001b[0mstim_times\u001b[0m \u001b[1;33m=\u001b[0m \u001b[0mfind_visual_stimuli\u001b[0m\u001b[1;33m(\u001b[0m\u001b[0mphotodiode_raw\u001b[0m\u001b[1;33m,\u001b[0m \u001b[1;36m1\u001b[0m\u001b[1;33m,\u001b[0m \u001b[1;36m25000\u001b[0m \u001b[1;33m)\u001b[0m\u001b[1;33m\u001b[0m\u001b[1;33m\u001b[0m\u001b[0m\n\u001b[0m",
      "\u001b[1;32m<ipython-input-15-cc5cbab452c7>\u001b[0m in \u001b[0;36mfind_visual_stimuli\u001b[1;34m(data, th, sampling_rate)\u001b[0m\n\u001b[0;32m     49\u001b[0m     \u001b[1;31m# if the number of starts and ends doesnt match something went wrong\u001b[0m\u001b[1;33m\u001b[0m\u001b[1;33m\u001b[0m\u001b[1;33m\u001b[0m\u001b[0m\n\u001b[0;32m     50\u001b[0m     \u001b[1;32mif\u001b[0m \u001b[1;32mnot\u001b[0m \u001b[0mlen\u001b[0m\u001b[1;33m(\u001b[0m\u001b[0mstarts\u001b[0m\u001b[1;33m)\u001b[0m \u001b[1;33m==\u001b[0m \u001b[0mlen\u001b[0m\u001b[1;33m(\u001b[0m\u001b[0mends\u001b[0m\u001b[1;33m)\u001b[0m\u001b[1;33m:\u001b[0m\u001b[1;33m\u001b[0m\u001b[1;33m\u001b[0m\u001b[0m\n\u001b[1;32m---> 51\u001b[1;33m         \u001b[1;32mif\u001b[0m \u001b[0mabs\u001b[0m\u001b[1;33m(\u001b[0m\u001b[0mlen\u001b[0m\u001b[1;33m(\u001b[0m\u001b[0mstarts\u001b[0m\u001b[1;33m)\u001b[0m\u001b[1;33m-\u001b[0m\u001b[0mlen\u001b[0m\u001b[1;33m(\u001b[0m\u001b[0mends\u001b[0m\u001b[1;33m)\u001b[0m\u001b[1;33m)\u001b[0m\u001b[1;33m>\u001b[0m\u001b[1;36m1\u001b[0m\u001b[1;33m:\u001b[0m \u001b[1;32mraise\u001b[0m \u001b[0mValueError\u001b[0m\u001b[1;33m(\u001b[0m\u001b[1;34m\"Too large error during detection: s:{} e{}\"\u001b[0m\u001b[1;33m.\u001b[0m\u001b[0mformat\u001b[0m\u001b[1;33m(\u001b[0m\u001b[0mlen\u001b[0m\u001b[1;33m(\u001b[0m\u001b[0mstarts\u001b[0m\u001b[1;33m)\u001b[0m\u001b[1;33m,\u001b[0m \u001b[0mlen\u001b[0m\u001b[1;33m(\u001b[0m\u001b[0mends\u001b[0m\u001b[1;33m)\u001b[0m\u001b[1;33m)\u001b[0m\u001b[1;33m)\u001b[0m\u001b[1;33m\u001b[0m\u001b[1;33m\u001b[0m\u001b[0m\n\u001b[0m\u001b[0;32m     52\u001b[0m         \u001b[0mprint\u001b[0m\u001b[1;33m(\u001b[0m\u001b[1;34m\"Something went wrong: {} - starts and {} - ends\"\u001b[0m\u001b[1;33m.\u001b[0m\u001b[0mformat\u001b[0m\u001b[1;33m(\u001b[0m\u001b[0mlen\u001b[0m\u001b[1;33m(\u001b[0m\u001b[0mstarts\u001b[0m\u001b[1;33m)\u001b[0m\u001b[1;33m,\u001b[0m \u001b[0mlen\u001b[0m\u001b[1;33m(\u001b[0m\u001b[0mends\u001b[0m\u001b[1;33m)\u001b[0m\u001b[1;33m)\u001b[0m\u001b[1;33m)\u001b[0m\u001b[1;33m\u001b[0m\u001b[1;33m\u001b[0m\u001b[0m\n\u001b[0;32m     53\u001b[0m         \u001b[1;31m# ? Fo1r debugging\u001b[0m\u001b[1;33m\u001b[0m\u001b[1;33m\u001b[0m\u001b[1;33m\u001b[0m\u001b[0m\n",
      "\u001b[1;31mValueError\u001b[0m: Too large error during detection: s:39 e50"
     ]
    }
   ],
   "source": [
    "stim_times = find_visual_stimuli(photodiode_raw, 1, 25000 )\n"
   ]
  },
  {
   "cell_type": "code",
   "execution_count": 18,
   "metadata": {
    "scrolled": true
   },
   "outputs": [
    {
     "name": "stdout",
     "output_type": "stream",
     "text": [
      "Something went wrong: 1793 - starts and 1794 - ends\n"
     ]
    },
    {
     "data": {
      "image/png": "[encoded data removed]",
      "text/plain": [
       "<Figure size 432x288 with 1 Axes>"
      ]
     },
     "metadata": {
      "needs_background": "light"
     },
     "output_type": "display_data"
    },
    {
     "name": "stdout",
     "output_type": "stream",
     "text": [
      "Which one to delete 1794\n"
     ]
    },
    {
     "ename": "IndexError",
     "evalue": "index 1794 is out of bounds for axis 0 with size 1794",
     "output_type": "error",
     "traceback": [
      "\u001b[1;31m---------------------------------------------------------------------------\u001b[0m",
      "\u001b[1;31mIndexError\u001b[0m                                Traceback (most recent call last)",
      "\u001b[1;32m<ipython-input-18-fd277ef85a1c>\u001b[0m in \u001b[0;36m<module>\u001b[1;34m\u001b[0m\n\u001b[1;32m----> 1\u001b[1;33m \u001b[0mfind_visual_stimuli\u001b[0m\u001b[1;33m(\u001b[0m\u001b[0mphotodiode_raw\u001b[0m\u001b[1;33m,\u001b[0m \u001b[1;36m0.5\u001b[0m\u001b[1;33m,\u001b[0m \u001b[1;36m2500\u001b[0m\u001b[1;33m)\u001b[0m\u001b[1;33m\u001b[0m\u001b[1;33m\u001b[0m\u001b[0m\n\u001b[0m",
      "\u001b[1;32m<ipython-input-15-cc5cbab452c7>\u001b[0m in \u001b[0;36mfind_visual_stimuli\u001b[1;34m(data, th, sampling_rate)\u001b[0m\n\u001b[0;32m     62\u001b[0m             \u001b[0mstarts\u001b[0m \u001b[1;33m=\u001b[0m \u001b[0mnp\u001b[0m\u001b[1;33m.\u001b[0m\u001b[0mdelete\u001b[0m\u001b[1;33m(\u001b[0m\u001b[0mstarts\u001b[0m\u001b[1;33m,\u001b[0m \u001b[0mto_elim\u001b[0m\u001b[1;33m)\u001b[0m\u001b[1;33m\u001b[0m\u001b[1;33m\u001b[0m\u001b[0m\n\u001b[0;32m     63\u001b[0m         \u001b[1;32melse\u001b[0m\u001b[1;33m:\u001b[0m\u001b[1;33m\u001b[0m\u001b[1;33m\u001b[0m\u001b[0m\n\u001b[1;32m---> 64\u001b[1;33m             \u001b[0mends\u001b[0m \u001b[1;33m=\u001b[0m \u001b[0mnp\u001b[0m\u001b[1;33m.\u001b[0m\u001b[0mdelete\u001b[0m\u001b[1;33m(\u001b[0m\u001b[0mends\u001b[0m\u001b[1;33m,\u001b[0m \u001b[0mto_elim\u001b[0m\u001b[1;33m)\u001b[0m\u001b[1;33m\u001b[0m\u001b[1;33m\u001b[0m\u001b[0m\n\u001b[0m\u001b[0;32m     65\u001b[0m     \u001b[1;32massert\u001b[0m \u001b[0mlen\u001b[0m\u001b[1;33m(\u001b[0m\u001b[0mstarts\u001b[0m\u001b[1;33m)\u001b[0m \u001b[1;33m==\u001b[0m \u001b[0mlen\u001b[0m\u001b[1;33m(\u001b[0m\u001b[0mends\u001b[0m\u001b[1;33m)\u001b[0m\u001b[1;33m,\u001b[0m \u001b[1;34m\"cacca\"\u001b[0m\u001b[1;33m\u001b[0m\u001b[1;33m\u001b[0m\u001b[0m\n\u001b[0;32m     66\u001b[0m     \u001b[1;31m# Return as a list of named tuples\u001b[0m\u001b[1;33m\u001b[0m\u001b[1;33m\u001b[0m\u001b[1;33m\u001b[0m\u001b[0m\n",
      "\u001b[1;32m<__array_function__ internals>\u001b[0m in \u001b[0;36mdelete\u001b[1;34m(*args, **kwargs)\u001b[0m\n",
      "\u001b[1;32mC:\\ProgramData\\Miniconda3\\lib\\site-packages\\numpy\\lib\\function_base.py\u001b[0m in \u001b[0;36mdelete\u001b[1;34m(arr, obj, axis)\u001b[0m\n\u001b[0;32m   4380\u001b[0m             raise IndexError(\n\u001b[0;32m   4381\u001b[0m                 \u001b[1;34m\"index %i is out of bounds for axis %i with \"\u001b[0m\u001b[1;33m\u001b[0m\u001b[1;33m\u001b[0m\u001b[0m\n\u001b[1;32m-> 4382\u001b[1;33m                 \"size %i\" % (obj, axis, N))\n\u001b[0m\u001b[0;32m   4383\u001b[0m         \u001b[1;32mif\u001b[0m \u001b[1;33m(\u001b[0m\u001b[0mobj\u001b[0m \u001b[1;33m<\u001b[0m \u001b[1;36m0\u001b[0m\u001b[1;33m)\u001b[0m\u001b[1;33m:\u001b[0m\u001b[1;33m\u001b[0m\u001b[1;33m\u001b[0m\u001b[0m\n\u001b[0;32m   4384\u001b[0m             \u001b[0mobj\u001b[0m \u001b[1;33m+=\u001b[0m \u001b[0mN\u001b[0m\u001b[1;33m\u001b[0m\u001b[1;33m\u001b[0m\u001b[0m\n",
      "\u001b[1;31mIndexError\u001b[0m: index 1794 is out of bounds for axis 0 with size 1794"
     ]
    }
   ],
   "source": [
    "find_visual_stimuli(photodiode_raw, 0.5, 2500)"
   ]
  },
  {
   "cell_type": "code",
   "execution_count": 35,
   "metadata": {},
   "outputs": [
    {
     "data": {
      "text/plain": [
       "[<matplotlib.lines.Line2D at 0x680d29b0>]"
      ]
     },
     "execution_count": 35,
     "metadata": {},
     "output_type": "execute_result"
    },
    {
     "data": {
      "image/png": "[encoded data removed]",
      "text/plain": [
       "<Figure size 1152x1152 with 1 Axes>"
      ]
     },
     "metadata": {
      "needs_background": "light"
     },
     "output_type": "display_data"
    }
   ],
   "source": [
    "plt.figure(figsize=(16, 16))\n",
    "plt.plot(photodiode_raw[:2500000])"
   ]
  },
  {
   "cell_type": "code",
   "execution_count": 36,
   "metadata": {},
   "outputs": [
    {
     "ename": "NameError",
     "evalue": "name 'photodiode_smoothed' is not defined",
     "output_type": "error",
     "traceback": [
      "\u001b[1;31m---------------------------------------------------------------------------\u001b[0m",
      "\u001b[1;31mNameError\u001b[0m                                 Traceback (most recent call last)",
      "\u001b[1;32m<ipython-input-36-69414378fb18>\u001b[0m in \u001b[0;36m<module>\u001b[1;34m\u001b[0m\n\u001b[1;32m----> 1\u001b[1;33m \u001b[0mlen\u001b[0m\u001b[1;33m(\u001b[0m\u001b[0mphotodiode_smoothed\u001b[0m\u001b[1;33m)\u001b[0m\u001b[1;33m/\u001b[0m\u001b[1;36m25000\u001b[0m\u001b[1;33m/\u001b[0m\u001b[1;36m60\u001b[0m\u001b[1;33m\u001b[0m\u001b[1;33m\u001b[0m\u001b[0m\n\u001b[0m",
      "\u001b[1;31mNameError\u001b[0m: name 'photodiode_smoothed' is not defined"
     ]
    }
   ],
   "source": [
    "len(photodiode_smoothed)/25000/60"
   ]
  },
  {
   "cell_type": "code",
   "execution_count": 37,
   "metadata": {},
   "outputs": [
    {
     "data": {
      "text/plain": [
       "[<matplotlib.lines.Line2D at 0x681302e8>]"
      ]
     },
     "execution_count": 37,
     "metadata": {},
     "output_type": "execute_result"
    },
    {
     "data": {
      "image/png": "[encoded data removed]",
      "text/plain": [
       "<Figure size 432x288 with 1 Axes>"
      ]
     },
     "metadata": {
      "needs_background": "light"
     },
     "output_type": "display_data"
    }
   ],
   "source": [
    "low_pulse_indexes = np.where(photodiode_raw < 0.1)\n",
    "photodiode_smoothed = photodiode_raw\n",
    "\n",
    "for i in low_pulse_indexes:\n",
    "    photodiode_smoothed[i] = photodiode_smoothed[i-1]\n",
    "\n",
    "plt.plot(photodiode_smoothed)\n"
   ]
  },
  {
   "cell_type": "code",
   "execution_count": 40,
   "metadata": {
    "scrolled": false
   },
   "outputs": [
    {
     "name": "stdout",
     "output_type": "stream",
     "text": [
      "Something went wrong: 9 - starts and 10 - ends\n"
     ]
    },
    {
     "data": {
      "image/png": "[encoded data removed]",
      "text/plain": [
       "<Figure size 432x288 with 1 Axes>"
      ]
     },
     "metadata": {
      "needs_background": "light"
     },
     "output_type": "display_data"
    },
    {
     "name": "stdout",
     "output_type": "stream",
     "text": [
      "Which one to delete 0\n"
     ]
    },
    {
     "ename": "ValueError",
     "evalue": "Wrong stimuli detection",
     "output_type": "error",
     "traceback": [
      "\u001b[1;31m---------------------------------------------------------------------------\u001b[0m",
      "\u001b[1;31mValueError\u001b[0m                                Traceback (most recent call last)",
      "\u001b[1;32m<ipython-input-40-413b5436e7f0>\u001b[0m in \u001b[0;36m<module>\u001b[1;34m\u001b[0m\n\u001b[1;32m----> 1\u001b[1;33m \u001b[0mfind_visual_stimuli\u001b[0m\u001b[1;33m(\u001b[0m\u001b[0mphotodiode_smoothed\u001b[0m\u001b[1;33m,\u001b[0m \u001b[1;36m0.5\u001b[0m\u001b[1;33m,\u001b[0m \u001b[1;36m2500\u001b[0m\u001b[1;33m)\u001b[0m\u001b[1;33m\u001b[0m\u001b[1;33m\u001b[0m\u001b[0m\n\u001b[0m",
      "\u001b[1;32m<ipython-input-15-cc5cbab452c7>\u001b[0m in \u001b[0;36mfind_visual_stimuli\u001b[1;34m(data, th, sampling_rate)\u001b[0m\n\u001b[0;32m     68\u001b[0m     \u001b[0mstimuli\u001b[0m \u001b[1;33m=\u001b[0m\u001b[1;33m[\u001b[0m\u001b[0mstim\u001b[0m\u001b[1;33m(\u001b[0m\u001b[0ms\u001b[0m\u001b[1;33m,\u001b[0m\u001b[0me\u001b[0m\u001b[1;33m)\u001b[0m \u001b[1;32mfor\u001b[0m \u001b[0ms\u001b[0m\u001b[1;33m,\u001b[0m\u001b[0me\u001b[0m \u001b[1;32min\u001b[0m \u001b[0mzip\u001b[0m\u001b[1;33m(\u001b[0m\u001b[0mstarts\u001b[0m\u001b[1;33m,\u001b[0m \u001b[0mends\u001b[0m\u001b[1;33m)\u001b[0m\u001b[1;33m]\u001b[0m\u001b[1;33m\u001b[0m\u001b[1;33m\u001b[0m\u001b[0m\n\u001b[0;32m     69\u001b[0m     \u001b[1;32mfor\u001b[0m \u001b[0ms\u001b[0m\u001b[1;33m,\u001b[0m\u001b[0me\u001b[0m \u001b[1;32min\u001b[0m \u001b[0mstimuli\u001b[0m\u001b[1;33m:\u001b[0m  \u001b[1;31m# check that the end is after the start\u001b[0m\u001b[1;33m\u001b[0m\u001b[1;33m\u001b[0m\u001b[0m\n\u001b[1;32m---> 70\u001b[1;33m         \u001b[1;32mif\u001b[0m \u001b[0me\u001b[0m \u001b[1;33m<\u001b[0m \u001b[0ms\u001b[0m\u001b[1;33m:\u001b[0m \u001b[1;32mraise\u001b[0m \u001b[0mValueError\u001b[0m\u001b[1;33m(\u001b[0m\u001b[1;34m\"Wrong stimuli detection\"\u001b[0m\u001b[1;33m)\u001b[0m\u001b[1;33m\u001b[0m\u001b[1;33m\u001b[0m\u001b[0m\n\u001b[0m\u001b[0;32m     71\u001b[0m     \u001b[1;32mreturn\u001b[0m \u001b[0mstimuli\u001b[0m\u001b[1;33m\u001b[0m\u001b[1;33m\u001b[0m\u001b[0m\n",
      "\u001b[1;31mValueError\u001b[0m: Wrong stimuli detection"
     ]
    }
   ],
   "source": [
    "find_visual_stimuli(photodiode_smoothed, 0.5, 2500)"
   ]
  },
  {
   "cell_type": "code",
   "execution_count": 39,
   "metadata": {},
   "outputs": [],
   "source": [
    "%matplotlib inline"
   ]
  },
  {
   "cell_type": "code",
   "execution_count": null,
   "metadata": {},
   "outputs": [],
   "source": [
    "tdms_path = r'C:\\Users\\maksymilianm\\Dropbox (UCL - SWC)\\Project_spiders\\Raw_data\\def_behav_probe\\29.10.19_sp4_LDR.tdms'\n",
    "tdms_file = TdmsFile(tdms_path)\n",
    "photodiode_raw = tdms_file.group_channels('Photodiode')[0].data\n"
   ]
  },
  {
   "cell_type": "code",
   "execution_count": null,
   "metadata": {},
   "outputs": [
    {
     "name": "stdout",
     "output_type": "stream",
     "text": [
      "Something went wrong: 9 - starts and 10 - ends\n"
     ]
    },
    {
     "data": {
      "image/png": "[encoded data removed]",
      "text/plain": [
       "<Figure size 432x288 with 1 Axes>"
      ]
     },
     "metadata": {
      "needs_background": "light"
     },
     "output_type": "display_data"
    }
   ],
   "source": [
    "find_visual_stimuli(photodiode_smoothed, 0.5, 2500)\n"
   ]
  },
  {
   "cell_type": "code",
   "execution_count": null,
   "metadata": {},
   "outputs": [],
   "source": []
  }
 ],
 "metadata": {
  "kernelspec": {
   "display_name": "Python 3",
   "language": "python",
   "name": "python3"
  },
  "language_info": {
   "codemirror_mode": {
    "name": "ipython",
    "version": 3
   },
   "file_extension": ".py",
   "mimetype": "text/x-python",
   "name": "python",
   "nbconvert_exporter": "python",
   "pygments_lexer": "ipython3",
   "version": "3.7.3"
  }
 },
 "nbformat": 4,
 "nbformat_minor": 2
}
