{
 "cells": [
  {
   "cell_type": "code",
   "execution_count": 4,
   "metadata": {},
   "outputs": [],
   "source": [
    "from nptdms import TdmsFile\n",
    "import numpy as np\n",
    "import pandas as pd\n",
    "from matplotlib import pyplot as plt\n"
   ]
  },
  {
   "cell_type": "code",
   "execution_count": 55,
   "metadata": {},
   "outputs": [],
   "source": [
    "tdms_path = r'C:\\Users\\maksymilianm\\Dropbox (UCL - SWC)\\Project_spiders\\Raw_data\\def_behav_probe\\30.10.19_sp7_LDR.tdms'\n",
    "tdms_file = TdmsFile(tdms_path)\n",
    "\n",
    "photodiode_raw = tdms_file.group_channels('Photodiode')[0].data\n",
    "spider_camera_input = tdms_file.group_channels('spider_camera_input')[0].data\n",
    "low_pulse_indexes = np.where(photodiode_raw < 0.1)\n",
    "photodiode_smoothed = photodiode_raw\n",
    "\n",
    "for i in low_pulse_indexes:\n",
    "    photodiode_smoothed[i] = photodiode_smoothed[i-1]"
   ]
  },
  {
   "cell_type": "code",
   "execution_count": 48,
   "metadata": {},
   "outputs": [],
   "source": [
    "import numpy as np\n",
    "import matplotlib.pyplot as plt\n",
    "from scipy.signal import butter, lfilter, freqz, resample, wiener, gaussian\n",
    "from scipy.ndimage import filters\n",
    "from collections import namedtuple\n",
    "def butter_lowpass(cutoff, fs, order=5):\n",
    "    nyq = 0.5 * fs\n",
    "    normal_cutoff = cutoff / nyq\n",
    "    b, a = butter(order, normal_cutoff, btype='low', analog=False)\n",
    "    return b, a\n",
    "def butter_lowpass_filter(data, cutoff, fs, order=5):\n",
    "    b, a = butter_lowpass(cutoff, fs, order=order)\n",
    "    y = lfilter(b, a, data)\n",
    "    return y\n",
    "def find_peaks_in_signal(signal, time_limit, th, above=True):\n",
    "    \"\"\"[Function to find the start of square peaks in a time series. \n",
    "    Useful for example to find frame starts or stim starts in analog input data]\n",
    "    Arguments:\n",
    "        signal {[np.array]} -- [the time series to be analysd]\n",
    "        time_limit {[float]} -- [min time inbetween peaks]\n",
    "        th {[float]} -- [where to threshold the signal to identify the peaks]\n",
    "    Returns:\n",
    "        [np.ndarray] -- [peak starts times]\n",
    "    \"\"\"\n",
    "    if above:\n",
    "        above_th = np.where(signal>th)[0]\n",
    "    else:\n",
    "        above_th = np.where(signal<th)[0]\n",
    "    if not np.any(above_th): return np.array([])\n",
    "    peak_starts = [x for x,d in zip(above_th, np.diff(above_th)) if d > time_limit]\n",
    "    # add the first and last above_th times to make sure all frames are included\n",
    "    peak_starts.insert(0, above_th[0])\n",
    "    peak_starts.append(above_th[-1])\n",
    "    # we then remove the second item because it corresponds to the end of the first peak\n",
    "    peak_starts.pop(1)\n",
    "    return np.array(peak_starts)\n",
    "def find_visual_stimuli(data, th, sampling_rate):\n",
    "    \"\"\" [Filter the data to remove high freq noise, then take the diff and thereshold to find changes]\n",
    "        Arguments:\n",
    "            data {[np.ndarray]} -- [1D numpy array with sample data (extracted from TDMS)]\n",
    "            th {[int]} -- [Threshold]\n",
    "            sampling_rate {[int]} -- [sampling rate of experiment]\n",
    "    \"\"\"\n",
    "    filtered  = butter_lowpass_filter(data, 75, int(sampling_rate/2))\n",
    "    d_filt = np.diff(filtered)\n",
    "    # find start and ends of stimuli (when it goes above and under threhsold)\n",
    "    ends = find_peaks_in_signal(d_filt, 50,  -0.0002, above=False )[1:]\n",
    "    starts = find_peaks_in_signal(d_filt, 50, 0.0002, above=True )[1:]\n",
    "    # if the number of starts and ends doesnt match something went wrong\n",
    "    if not len(starts) == len(ends):\n",
    "        if abs(len(starts)-len(ends))>1: raise ValueError(\"Too large error during detection: s:{} e{}\".format(len(starts), len(ends)))\n",
    "        print(\"Something went wrong: {} - starts and {} - ends\".format(len(starts), len(ends)))\n",
    "        # ? Fo1r debugging\n",
    "        f, ax = plt.subplots()\n",
    "        ax.plot(filtered, color='r')\n",
    "        ax.plot(butter_lowpass_filter(np.diff(filtered), 75, int(sampling_rate/2)), color='g')\n",
    "        ax.scatter(starts, [0.25 for i in starts], c='r')\n",
    "        ax.scatter(ends, [0 for i in ends], c='k')\n",
    "        plt.show()\n",
    "        to_elim = int(input(\"Which one to delete \"))\n",
    "        if len(starts)  > len(ends):\n",
    "            starts = np.delete(starts, to_elim)\n",
    "        else:\n",
    "            ends = np.delete(ends, to_elim)\n",
    "    assert len(starts) == len(ends), \"cacca\"\n",
    "    # Return as a list of named tuples\n",
    "    stim = namedtuple(\"stim\", \"start end\")\n",
    "    stimuli =[stim(s,e) for s,e in zip(starts, ends)]\n",
    "    for s,e in stimuli:  # check that the end is after the start\n",
    "       if e < s: raise ValueError(\"Wrong stimuli detection\")\n",
    "    return stimuli"
   ]
  },
  {
   "cell_type": "code",
   "execution_count": 54,
   "metadata": {},
   "outputs": [
    {
     "data": {
      "text/plain": [
       "[stim(start=319, end=2956828),\n",
       " stim(start=2819771, end=6951718),\n",
       " stim(start=6814158, end=11471596),\n",
       " stim(start=11334033, end=19339380),\n",
       " stim(start=19202321, end=25788206),\n",
       " stim(start=25650641, end=34218975),\n",
       " stim(start=34081412, end=46714634),\n",
       " stim(start=46577070, end=49303145),\n",
       " stim(start=49303227, end=49303302)]"
      ]
     },
     "execution_count": 54,
     "metadata": {},
     "output_type": "execute_result"
    }
   ],
   "source": [
    "stim_times = find_visual_stimuli(photodiode_raw, 1.5, 25000)\n",
    "stim_times"
   ]
  },
  {
   "cell_type": "code",
   "execution_count": 43,
   "metadata": {},
   "outputs": [
    {
     "name": "stdout",
     "output_type": "stream",
     "text": [
      "frame 18134.0\n",
      "time: 7.555833333333334 min\n"
     ]
    }
   ],
   "source": [
    "start_time = 11334033\n",
    "sampling_rate = 25000\n",
    "fps = 40 \n",
    "frame_number = np.round(np.multiply(np.divide(start_time, sampling_rate), fps))\n",
    "print('frame', frame_number)\n",
    "print('time:',frame_number/40/60, 'min')"
   ]
  },
  {
   "cell_type": "code",
   "execution_count": 44,
   "metadata": {},
   "outputs": [
    {
     "ename": "NameError",
     "evalue": "name 'get_selected_frame' is not defined",
     "output_type": "error",
     "traceback": [
      "\u001b[1;31m---------------------------------------------------------------------------\u001b[0m",
      "\u001b[1;31mNameError\u001b[0m                                 Traceback (most recent call last)",
      "\u001b[1;32m<ipython-input-44-bf7966514022>\u001b[0m in \u001b[0;36m<module>\u001b[1;34m\u001b[0m\n\u001b[0;32m      3\u001b[0m     \u001b[0mstart_frame\u001b[0m \u001b[1;33m=\u001b[0m \u001b[0mt\u001b[0m\u001b[1;33m[\u001b[0m\u001b[1;36m0\u001b[0m\u001b[1;33m]\u001b[0m\u001b[1;33m\u001b[0m\u001b[1;33m\u001b[0m\u001b[0m\n\u001b[0;32m      4\u001b[0m \u001b[1;33m\u001b[0m\u001b[0m\n\u001b[1;32m----> 5\u001b[1;33m     \u001b[0mframe\u001b[0m \u001b[1;33m=\u001b[0m \u001b[0mget_selected_frame\u001b[0m\u001b[1;33m(\u001b[0m\u001b[0mcap\u001b[0m\u001b[1;33m,\u001b[0m \u001b[0mstart_frame\u001b[0m\u001b[1;33m)\u001b[0m\u001b[1;33m\u001b[0m\u001b[1;33m\u001b[0m\u001b[0m\n\u001b[0m\u001b[0;32m      6\u001b[0m \u001b[1;33m\u001b[0m\u001b[0m\n\u001b[0;32m      7\u001b[0m     \u001b[0mprint\u001b[0m\u001b[1;33m(\u001b[0m\u001b[0mt\u001b[0m\u001b[1;33m)\u001b[0m\u001b[1;33m\u001b[0m\u001b[1;33m\u001b[0m\u001b[0m\n",
      "\u001b[1;31mNameError\u001b[0m: name 'get_selected_frame' is not defined"
     ]
    }
   ],
   "source": [
    "for t in stim_times:\n",
    "    \n",
    "    start_frame = t[0]\n",
    "    \n",
    "    frame = get_selected_frame(cap, start_frame)\n",
    "    \n",
    "    print(t)\n",
    "    #print(t[0],t[1])\n",
    "    \n",
    "    "
   ]
  },
  {
   "cell_type": "code",
   "execution_count": 24,
   "metadata": {},
   "outputs": [
    {
     "data": {
      "text/plain": [
       "list"
      ]
     },
     "execution_count": 24,
     "metadata": {},
     "output_type": "execute_result"
    }
   ],
   "source": [
    "type(stim_times)"
   ]
  },
  {
   "cell_type": "code",
   "execution_count": null,
   "metadata": {},
   "outputs": [],
   "source": [
    "\n"
   ]
  }
 ],
 "metadata": {
  "kernelspec": {
   "display_name": "Python 3",
   "language": "python",
   "name": "python3"
  },
  "language_info": {
   "codemirror_mode": {
    "name": "ipython",
    "version": 3
   },
   "file_extension": ".py",
   "mimetype": "text/x-python",
   "name": "python",
   "nbconvert_exporter": "python",
   "pygments_lexer": "ipython3",
   "version": "3.7.3"
  }
 },
 "nbformat": 4,
 "nbformat_minor": 2
}
